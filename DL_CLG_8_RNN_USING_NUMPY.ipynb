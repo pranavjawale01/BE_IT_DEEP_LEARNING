{
 "cells": [
  {
   "cell_type": "code",
   "execution_count": 31,
   "id": "38d393c4-4fa8-4aa8-b0e8-e624abb2d0a3",
   "metadata": {},
   "outputs": [],
   "source": [
    "# Build Recurrent Neural Network by Using the Numpy Library"
   ]
  },
  {
   "cell_type": "code",
   "execution_count": 32,
   "id": "ca3263ba-6fa5-443d-80e6-df5504e2ff8e",
   "metadata": {},
   "outputs": [],
   "source": [
    "import numpy as np"
   ]
  },
  {
   "cell_type": "code",
   "execution_count": 33,
   "id": "3345cfe2-e95a-43d9-acb0-d9b3bccf8bed",
   "metadata": {},
   "outputs": [],
   "source": [
    "# RNN configuration\n",
    "input_dim = 1\n",
    "hidden_dim = 10\n",
    "output_dim = 1\n",
    "learning_rate = 0.01\n",
    "sequence_length = 5\n",
    "num_epochs = 500"
   ]
  },
  {
   "cell_type": "code",
   "execution_count": 34,
   "id": "a6ea1ba1-ef80-4abf-81e9-8f10b10063db",
   "metadata": {},
   "outputs": [],
   "source": [
    "# Initial weights and biases"
   ]
  },
  {
   "cell_type": "code",
   "execution_count": 35,
   "id": "39e0ea3b-8b97-40f3-ad73-9b036d31df2c",
   "metadata": {},
   "outputs": [],
   "source": [
    "weight_input_hidden = np.random.randn(hidden_dim, input_dim) * 0.01\n",
    "weight_hidden_hidden = np.random.randn(hidden_dim, hidden_dim) * 0.01\n",
    "weight_hidden_output = np.random.randn(output_dim, hidden_dim) * 0.01\n",
    "\n",
    "bias_hidden = np.zeros((hidden_dim, 1))\n",
    "bias_output = np.zeros((output_dim, 1))"
   ]
  },
  {
   "cell_type": "code",
   "execution_count": 36,
   "id": "3b670240-8840-4000-b8fd-2ae80769f634",
   "metadata": {},
   "outputs": [],
   "source": [
    "# Activation function and its derivative"
   ]
  },
  {
   "cell_type": "code",
   "execution_count": 37,
   "id": "8fb14779-7b63-4a0d-b10d-be5b8b067c4e",
   "metadata": {},
   "outputs": [],
   "source": [
    "def sigmoid(x):\n",
    "    return 1 / (1 + np.exp(-x))"
   ]
  },
  {
   "cell_type": "code",
   "execution_count": 38,
   "id": "d5ecfef2-4941-4aee-bd9c-9633f54809d3",
   "metadata": {},
   "outputs": [],
   "source": [
    "def sigmoid_derivative(output):\n",
    "    return output * (1 - output)"
   ]
  },
  {
   "cell_type": "code",
   "execution_count": 39,
   "id": "4a96c22e-0cec-4d52-9333-aa0a220b35ac",
   "metadata": {},
   "outputs": [],
   "source": [
    "# Forward pass\n",
    "\n",
    "def forward_step(input_t, hidden_state_prev):\n",
    "    hidden_state = sigmoid(np.dot(weight_input_hidden, input_t) + np.dot(weight_hidden_hidden, hidden_state_prev) + bias_hidden)\n",
    "    output = np.dot(weight_hidden_output, hidden_state) + bias_output\n",
    "    return output, hidden_state"
   ]
  },
  {
   "cell_type": "code",
   "execution_count": 45,
   "id": "fa8d6600-20d0-4102-8f53-44bedb798545",
   "metadata": {},
   "outputs": [],
   "source": [
    "# Backpropagation Through Time (BPTT)\n",
    "\n",
    "\n",
    "def bptt(inputs, targets, initial_hidden_state):\n",
    "    global weight_input_hidden, weight_hidden_hidden, weight_hidden_output, bias_hidden, bias_output\n",
    "    \n",
    "    # Initialize gradients\n",
    "    grad_weight_input_hidden = np.zeros_like(weight_input_hidden)\n",
    "    grad_weight_hidden_hidden = np.zeros_like(weight_hidden_hidden)\n",
    "    grad_weight_hidden_output = np.zeros_like(weight_hidden_output)\n",
    "    grad_bias_hidden = np.zeros_like(bias_hidden)\n",
    "    grad_bias_output = np.zeros_like(bias_output)\n",
    "    grad_hidden_state_next = np.zeros_like(initial_hidden_state)\n",
    "    \n",
    "    # Store hidden states and outputs\n",
    "    hidden_states, predicted_outputs = [np.copy(initial_hidden_state)], []\n",
    "    \n",
    "    # Forward pass through each time step\n",
    "    hidden_state = initial_hidden_state\n",
    "    for input_t in inputs:\n",
    "        output, hidden_state = forward_step(input_t, hidden_state)\n",
    "        predicted_outputs.append(output)\n",
    "        hidden_states.append(hidden_state)\n",
    "    \n",
    "    # Backward pass through time\n",
    "    for t in reversed(range(len(inputs))):\n",
    "        output_error = predicted_outputs[t] - targets[t]\n",
    "        grad_weight_hidden_output += np.dot(output_error, hidden_states[t].T)\n",
    "        grad_bias_output += output_error\n",
    "        hidden_state_error = np.dot(weight_hidden_output.T, output_error) + grad_hidden_state_next\n",
    "        hidden_state_delta = sigmoid_derivative(hidden_states[t]) * hidden_state_error\n",
    "        grad_bias_hidden += hidden_state_delta\n",
    "        grad_weight_input_hidden += np.dot(hidden_state_delta, inputs[t].T)\n",
    "        grad_weight_hidden_hidden += np.dot(hidden_state_delta, hidden_states[t-1].T)\n",
    "        grad_hidden_state_next = np.dot(weight_hidden_hidden.T, hidden_state_delta)\n",
    "    \n",
    "    # Gradient clipping and parameter update\n",
    "    for grad in [grad_weight_input_hidden, grad_weight_hidden_hidden, grad_weight_hidden_output, grad_bias_hidden, grad_bias_output]:\n",
    "        np.clip(grad, -1, 1, out=grad)\n",
    "        \n",
    "    weight_input_hidden -= learning_rate * grad_weight_input_hidden\n",
    "    weight_hidden_hidden -= learning_rate * grad_weight_hidden_hidden\n",
    "    weight_hidden_output -= learning_rate * grad_weight_hidden_output\n",
    "    bias_hidden -= learning_rate * grad_bias_hidden\n",
    "    bias_output -= learning_rate * grad_bias_output\n",
    "    \n",
    "    return predicted_outputs, targets"
   ]
  },
  {
   "cell_type": "code",
   "execution_count": 46,
   "id": "808e8884-410a-4a0b-ae1a-bc57f37b59ac",
   "metadata": {},
   "outputs": [],
   "source": [
    "# Accuracy Calculation\n",
    "def calculate_accuracy(predicted_outputs, targets):\n",
    "    correct_predictions = 0\n",
    "    for y_pred, y_true in zip(predicted_outputs, targets):\n",
    "        # Assuming a simple threshold to classify outputs\n",
    "        predicted_label = 1 if y_pred > 0.5 else 0\n",
    "        true_label = 1 if y_true > 0.5 else 0\n",
    "        correct_predictions += (predicted_label == true_label)\n",
    "    return correct_predictions / len(targets)"
   ]
  },
  {
   "cell_type": "code",
   "execution_count": 41,
   "id": "8dd3924c-04f5-45c9-bbef-1ea13e5e980f",
   "metadata": {},
   "outputs": [],
   "source": [
    "# Training"
   ]
  },
  {
   "cell_type": "code",
   "execution_count": 47,
   "id": "4a51102f-8ce4-4012-9c1c-30b191967770",
   "metadata": {},
   "outputs": [
    {
     "name": "stdout",
     "output_type": "stream",
     "text": [
      "Epoch 0, Loss: 0.4727, Accuracy: 0.4000\n",
      "Epoch 50, Loss: 0.4385, Accuracy: 0.4000\n",
      "Epoch 100, Loss: 1.1671, Accuracy: 0.8000\n",
      "Epoch 150, Loss: 1.4249, Accuracy: 0.6000\n",
      "Epoch 200, Loss: 1.0969, Accuracy: 0.6000\n",
      "Epoch 250, Loss: 0.7578, Accuracy: 0.6000\n",
      "Epoch 300, Loss: 0.8443, Accuracy: 0.8000\n",
      "Epoch 350, Loss: 0.4257, Accuracy: 0.8000\n",
      "Epoch 400, Loss: 1.8166, Accuracy: 0.6000\n",
      "Epoch 450, Loss: 0.5088, Accuracy: 0.6000\n"
     ]
    }
   ],
   "source": [
    "# Training\n",
    "for epoch in range(num_epochs):\n",
    "    initial_hidden_state = np.zeros((hidden_dim, 1))\n",
    "    inputs = [np.random.randn(input_dim, 1) for _ in range(sequence_length)]\n",
    "    targets = [np.random.randn(output_dim, 1) for _ in range(sequence_length)]\n",
    "    \n",
    "    predicted_outputs, targets = bptt(inputs, targets, initial_hidden_state)\n",
    "    \n",
    "    # Calculate loss (mean squared error)\n",
    "    loss = np.mean((np.array(targets) - np.array(predicted_outputs)) ** 2)\n",
    "    \n",
    "    # Calculate accuracy\n",
    "    accuracy = calculate_accuracy(predicted_outputs, targets)\n",
    "    \n",
    "    if epoch % 50 == 0:\n",
    "        print(f'Epoch {epoch}, Loss: {loss:.4f}, Accuracy: {accuracy:.4f}')"
   ]
  }
 ],
 "metadata": {
  "kernelspec": {
   "display_name": "Python 3 (ipykernel)",
   "language": "python",
   "name": "python3"
  },
  "language_info": {
   "codemirror_mode": {
    "name": "ipython",
    "version": 3
   },
   "file_extension": ".py",
   "mimetype": "text/x-python",
   "name": "python",
   "nbconvert_exporter": "python",
   "pygments_lexer": "ipython3",
   "version": "3.12.0"
  }
 },
 "nbformat": 4,
 "nbformat_minor": 5
}

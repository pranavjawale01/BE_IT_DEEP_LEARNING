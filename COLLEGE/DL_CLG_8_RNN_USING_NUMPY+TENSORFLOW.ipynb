{
 "cells": [
  {
   "cell_type": "code",
   "execution_count": 1,
   "id": "75e52889-e373-483a-9adf-cdc2d62982f7",
   "metadata": {},
   "outputs": [],
   "source": [
    "import numpy as np\n",
    "import tensorflow as tf\n",
    "from tensorflow.keras.models import Sequential\n",
    "from tensorflow.keras.layers import SimpleRNN, Dense"
   ]
  },
  {
   "cell_type": "code",
   "execution_count": 2,
   "id": "397bc8fc-2419-47eb-a0af-9de8b8c8bd48",
   "metadata": {},
   "outputs": [],
   "source": [
    "# Activation functions and derivatives\n",
    "def sigmoid(x):\n",
    "    return 1 / (1 + np.exp(-x))\n",
    "\n",
    "def sigmoid_derivative(x):\n",
    "    return x * (1 - x)"
   ]
  },
  {
   "cell_type": "code",
   "execution_count": 3,
   "id": "518c2495-8add-4aa0-bbdb-901d73448006",
   "metadata": {},
   "outputs": [],
   "source": [
    "# Initialize weights\n",
    "Wxh = np.random.randn(10, 5)  # Input to hidden weights\n",
    "Whh = np.random.randn(10, 10) # Hidden to hidden weights\n",
    "Why = np.random.randn(1, 10)  # Hidden to output weights\n",
    "\n",
    "bh = np.zeros((10, 1))        # Hidden bias\n",
    "by = np.zeros((1, 1))         # Output bias\n",
    "\n",
    "# Initial hidden state\n",
    "h = np.zeros((10, 1))"
   ]
  },
  {
   "cell_type": "code",
   "execution_count": 4,
   "id": "e811ec07-db8c-4d5c-84e6-18997a5c9b98",
   "metadata": {},
   "outputs": [],
   "source": [
    "# Forward pass\n",
    "def rnn_step(X, h):\n",
    "    h = sigmoid(np.dot(Wxh, X) + np.dot(Whh, h) + bh)  # Update hidden state\n",
    "    y = np.dot(Why, h) + by  # Compute output\n",
    "    return h, y\n"
   ]
  },
  {
   "cell_type": "code",
   "execution_count": 5,
   "id": "ca231189-a22d-40dd-b891-749b53f37d90",
   "metadata": {},
   "outputs": [
    {
     "name": "stdout",
     "output_type": "stream",
     "text": [
      "Time step 0, Output: [[-0.00806672]]\n",
      "Time step 1, Output: [[0.75068192]]\n",
      "Time step 2, Output: [[-0.78961973]]\n",
      "Time step 3, Output: [[-0.4429957]]\n",
      "Time step 4, Output: [[-0.17476814]]\n",
      "Time step 5, Output: [[0.57461413]]\n"
     ]
    }
   ],
   "source": [
    "# Dummy input sequence\n",
    "X = [np.random.randn(5, 1) for _ in range(6)]  # 6 time steps of 5-dimensional input\n",
    "\n",
    "# Process each time step\n",
    "for t in range(len(X)):\n",
    "    h, y = rnn_step(X[t], h)\n",
    "    print(f\"Time step {t}, Output: {y}\")"
   ]
  },
  {
   "cell_type": "code",
   "execution_count": 6,
   "id": "073ed291-4480-41df-a19b-1d71433c5f0d",
   "metadata": {},
   "outputs": [
    {
     "name": "stderr",
     "output_type": "stream",
     "text": [
      "C:\\Program Files\\Python312\\Lib\\site-packages\\keras\\src\\layers\\rnn\\rnn.py:204: UserWarning: Do not pass an `input_shape`/`input_dim` argument to a layer. When using Sequential models, prefer using an `Input(shape)` object as the first layer in the model instead.\n",
      "  super().__init__(**kwargs)\n"
     ]
    }
   ],
   "source": [
    "# Define a Sequential model\n",
    "model = Sequential()\n",
    "\n",
    "# Add an RNN layer (input_size = 5, hidden_size = 10)\n",
    "model.add(SimpleRNN(10, input_shape=(None, 5)))\n",
    "\n",
    "# Add a Dense output layer\n",
    "model.add(Dense(1))  # output_size = 1\n",
    "\n",
    "# Compile the model\n",
    "model.compile(optimizer='adam', loss='mean_squared_error')"
   ]
  },
  {
   "cell_type": "code",
   "execution_count": 7,
   "id": "5dc0a462-eace-421b-a69e-d6bba3fa0655",
   "metadata": {},
   "outputs": [
    {
     "name": "stdout",
     "output_type": "stream",
     "text": [
      "Epoch 1/10\n",
      "\u001b[1m1/1\u001b[0m \u001b[32m━━━━━━━━━━━━━━━━━━━━\u001b[0m\u001b[37m\u001b[0m \u001b[1m2s\u001b[0m 2s/step - loss: 0.1285\n",
      "Epoch 2/10\n",
      "\u001b[1m1/1\u001b[0m \u001b[32m━━━━━━━━━━━━━━━━━━━━\u001b[0m\u001b[37m\u001b[0m \u001b[1m0s\u001b[0m 53ms/step - loss: 0.0978\n",
      "Epoch 3/10\n",
      "\u001b[1m1/1\u001b[0m \u001b[32m━━━━━━━━━━━━━━━━━━━━\u001b[0m\u001b[37m\u001b[0m \u001b[1m0s\u001b[0m 47ms/step - loss: 0.0713\n",
      "Epoch 4/10\n",
      "\u001b[1m1/1\u001b[0m \u001b[32m━━━━━━━━━━━━━━━━━━━━\u001b[0m\u001b[37m\u001b[0m \u001b[1m0s\u001b[0m 41ms/step - loss: 0.0492\n",
      "Epoch 5/10\n",
      "\u001b[1m1/1\u001b[0m \u001b[32m━━━━━━━━━━━━━━━━━━━━\u001b[0m\u001b[37m\u001b[0m \u001b[1m0s\u001b[0m 47ms/step - loss: 0.0314\n",
      "Epoch 6/10\n",
      "\u001b[1m1/1\u001b[0m \u001b[32m━━━━━━━━━━━━━━━━━━━━\u001b[0m\u001b[37m\u001b[0m \u001b[1m0s\u001b[0m 43ms/step - loss: 0.0179\n",
      "Epoch 7/10\n",
      "\u001b[1m1/1\u001b[0m \u001b[32m━━━━━━━━━━━━━━━━━━━━\u001b[0m\u001b[37m\u001b[0m \u001b[1m0s\u001b[0m 48ms/step - loss: 0.0085\n",
      "Epoch 8/10\n",
      "\u001b[1m1/1\u001b[0m \u001b[32m━━━━━━━━━━━━━━━━━━━━\u001b[0m\u001b[37m\u001b[0m \u001b[1m0s\u001b[0m 53ms/step - loss: 0.0028\n",
      "Epoch 9/10\n",
      "\u001b[1m1/1\u001b[0m \u001b[32m━━━━━━━━━━━━━━━━━━━━\u001b[0m\u001b[37m\u001b[0m \u001b[1m0s\u001b[0m 37ms/step - loss: 2.4929e-04\n",
      "Epoch 10/10\n",
      "\u001b[1m1/1\u001b[0m \u001b[32m━━━━━━━━━━━━━━━━━━━━\u001b[0m\u001b[37m\u001b[0m \u001b[1m0s\u001b[0m 45ms/step - loss: 3.0025e-04\n"
     ]
    },
    {
     "data": {
      "text/plain": [
       "<keras.src.callbacks.history.History at 0x26186eac830>"
      ]
     },
     "execution_count": 7,
     "metadata": {},
     "output_type": "execute_result"
    }
   ],
   "source": [
    "# Generate dummy data\n",
    "X = tf.random.normal([1, 6, 5])  # (batch_size, sequence_length, input_size)\n",
    "y = tf.random.normal([1, 1])     # (batch_size, output_size)\n",
    "\n",
    "# Train the model\n",
    "model.fit(X, y, epochs=10)"
   ]
  },
  {
   "cell_type": "code",
   "execution_count": 8,
   "id": "5adbc814-f935-4e92-910c-83dba413a8be",
   "metadata": {},
   "outputs": [
    {
     "name": "stdout",
     "output_type": "stream",
     "text": [
      "\u001b[1m1/1\u001b[0m \u001b[32m━━━━━━━━━━━━━━━━━━━━\u001b[0m\u001b[37m\u001b[0m \u001b[1m0s\u001b[0m 193ms/step\n",
      "[[-0.69082487]]\n"
     ]
    }
   ],
   "source": [
    "# Predict using the model\n",
    "output = model.predict(X)\n",
    "print(output)"
   ]
  }
 ],
 "metadata": {
  "kernelspec": {
   "display_name": "Python 3 (ipykernel)",
   "language": "python",
   "name": "python3"
  },
  "language_info": {
   "codemirror_mode": {
    "name": "ipython",
    "version": 3
   },
   "file_extension": ".py",
   "mimetype": "text/x-python",
   "name": "python",
   "nbconvert_exporter": "python",
   "pygments_lexer": "ipython3",
   "version": "3.12.0"
  }
 },
 "nbformat": 4,
 "nbformat_minor": 5
}

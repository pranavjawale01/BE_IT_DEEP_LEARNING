{
 "cells": [
  {
   "cell_type": "code",
   "execution_count": null,
   "id": "f195c9df-3072-431e-9793-408f1ca20cb1",
   "metadata": {},
   "outputs": [],
   "source": [
    "# 1. Load and Modify VGG16"
   ]
  },
  {
   "cell_type": "code",
   "execution_count": 1,
   "id": "dbbf85e2-b223-4e6d-bb5c-6f11c9812625",
   "metadata": {},
   "outputs": [],
   "source": [
    "import os\n",
    "import torch\n",
    "import torch.nn as nn\n",
    "import torch.optim as optim\n",
    "import torchvision.transforms as transforms\n",
    "import torchvision.datasets as datasets\n",
    "from torch.utils.data import DataLoader\n",
    "from torchvision import models"
   ]
  },
  {
   "cell_type": "code",
   "execution_count": 2,
   "id": "03fe7eac-484e-48f4-b570-812a9e25d88b",
   "metadata": {},
   "outputs": [],
   "source": [
    "device = torch.device(\"cuda\" if torch.cuda.is_available() else \"cpu\")"
   ]
  },
  {
   "cell_type": "code",
   "execution_count": 3,
   "id": "41848c23-98e4-417f-8174-e4390565eba5",
   "metadata": {},
   "outputs": [
    {
     "data": {
      "text/plain": [
       "device(type='cpu')"
      ]
     },
     "execution_count": 3,
     "metadata": {},
     "output_type": "execute_result"
    }
   ],
   "source": [
    "device"
   ]
  },
  {
   "cell_type": "code",
   "execution_count": 4,
   "id": "22fde829-7826-4785-9fd1-ec49487f8385",
   "metadata": {},
   "outputs": [
    {
     "name": "stderr",
     "output_type": "stream",
     "text": [
      "C:\\Program Files\\Python312\\Lib\\site-packages\\torchvision\\models\\_utils.py:208: UserWarning: The parameter 'pretrained' is deprecated since 0.13 and may be removed in the future, please use 'weights' instead.\n",
      "  warnings.warn(\n",
      "C:\\Program Files\\Python312\\Lib\\site-packages\\torchvision\\models\\_utils.py:223: UserWarning: Arguments other than a weight enum or `None` for 'weights' are deprecated since 0.13 and may be removed in the future. The current behavior is equivalent to passing `weights=VGG16_Weights.IMAGENET1K_V1`. You can also use `weights=VGG16_Weights.DEFAULT` to get the most up-to-date weights.\n",
      "  warnings.warn(msg)\n",
      "Downloading: \"https://download.pytorch.org/models/vgg16-397923af.pth\" to C:\\Users\\HP/.cache\\torch\\hub\\checkpoints\\vgg16-397923af.pth\n",
      "100%|███████████████████████████████████████████████████████████████████████████████| 528M/528M [10:55<00:00, 844kB/s]\n"
     ]
    }
   ],
   "source": [
    "vgg16 = models.vgg16(pretrained=True)"
   ]
  },
  {
   "cell_type": "code",
   "execution_count": 8,
   "id": "592b553b-753b-4eeb-8ddf-7db81797fed8",
   "metadata": {},
   "outputs": [
    {
     "ename": "NameError",
     "evalue": "name 'vgg16' is not defined",
     "output_type": "error",
     "traceback": [
      "\u001b[1;31m---------------------------------------------------------------------------\u001b[0m",
      "\u001b[1;31mNameError\u001b[0m                                 Traceback (most recent call last)",
      "Cell \u001b[1;32mIn[8], line 6\u001b[0m\n\u001b[0;32m      4\u001b[0m model_filename \u001b[38;5;241m=\u001b[39m \u001b[38;5;124m'\u001b[39m\u001b[38;5;124mvgg16_pretrained.pth\u001b[39m\u001b[38;5;124m'\u001b[39m\n\u001b[0;32m      5\u001b[0m model_path \u001b[38;5;241m=\u001b[39m os\u001b[38;5;241m.\u001b[39mpath\u001b[38;5;241m.\u001b[39mjoin(model_dir, model_filename)\n\u001b[1;32m----> 6\u001b[0m torch\u001b[38;5;241m.\u001b[39msave(\u001b[43mvgg16\u001b[49m\u001b[38;5;241m.\u001b[39mstate_dict(), model_path)\n\u001b[0;32m      7\u001b[0m model_path\n",
      "\u001b[1;31mNameError\u001b[0m: name 'vgg16' is not defined"
     ]
    }
   ],
   "source": [
    "import os\n",
    "\n",
    "model_dir = 'Model/'\n",
    "model_filename = 'vgg16_pretrained.pth'\n",
    "model_path = os.path.join(model_dir, model_filename)\n",
    "torch.save(vgg16.state_dict(), model_path)\n",
    "model_path"
   ]
  },
  {
   "cell_type": "code",
   "execution_count": 4,
   "id": "e6568e0a-d19e-4282-a890-b6b6ee5f1dc2",
   "metadata": {},
   "outputs": [],
   "source": [
    "transform = transforms.Compose([\n",
    "    transforms.Grayscale(num_output_channels=3),\n",
    "    transforms.Resize((224, 224)),\n",
    "    transforms.ToTensor(),\n",
    "    transforms.Normalize((0.5, 0.5, 0.5), (0.5, 0.5, 0.5))\n",
    "])"
   ]
  },
  {
   "cell_type": "code",
   "execution_count": 5,
   "id": "4f17161d-3770-40c3-a78c-58c2d58cec60",
   "metadata": {},
   "outputs": [],
   "source": [
    "train_dataset = datasets.MNIST(root='data', train=True, download=True, transform=transform)\n",
    "test_dataset = datasets.MNIST(root='data', train=False, download=True, transform=transform)\n",
    "\n",
    "train_loader = DataLoader(train_dataset, batch_size=64, shuffle=True)\n",
    "test_loader = DataLoader(test_dataset, batch_size=64, shuffle=False)"
   ]
  },
  {
   "cell_type": "code",
   "execution_count": null,
   "id": "deb619c3-e9f8-4526-b931-df1483dfa4f1",
   "metadata": {},
   "outputs": [],
   "source": [
    "# Step 2: Load the Pre-trained VGG16 Model"
   ]
  },
  {
   "cell_type": "code",
   "execution_count": 9,
   "id": "4b2429c7-79d7-4fad-a59f-7766b2a82824",
   "metadata": {},
   "outputs": [
    {
     "name": "stderr",
     "output_type": "stream",
     "text": [
      "C:\\Users\\HP\\AppData\\Local\\Temp\\ipykernel_4948\\4254293550.py:6: FutureWarning: You are using `torch.load` with `weights_only=False` (the current default value), which uses the default pickle module implicitly. It is possible to construct malicious pickle data which will execute arbitrary code during unpickling (See https://github.com/pytorch/pytorch/blob/main/SECURITY.md#untrusted-models for more details). In a future release, the default value for `weights_only` will be flipped to `True`. This limits the functions that could be executed during unpickling. Arbitrary objects will no longer be allowed to be loaded via this mode unless they are explicitly allowlisted by the user via `torch.serialization.add_safe_globals`. We recommend you start setting `weights_only=True` for any use case where you don't have full control of the loaded file. Please open an issue on GitHub for any issues related to this experimental feature.\n",
      "  vgg.load_state_dict(torch.load(model_path))\n"
     ]
    },
    {
     "data": {
      "text/plain": [
       "<All keys matched successfully>"
      ]
     },
     "execution_count": 9,
     "metadata": {},
     "output_type": "execute_result"
    }
   ],
   "source": [
    "model_dir = 'Model/'\n",
    "model_filename = 'vgg16_pretrained.pth'\n",
    "model_path = os.path.join(model_dir, model_filename)\n",
    "\n",
    "vgg = models.vgg16()\n",
    "vgg.load_state_dict(torch.load(model_path))"
   ]
  },
  {
   "cell_type": "code",
   "execution_count": null,
   "id": "5ff59bf3-b3ac-49e4-b713-5ef39749251b",
   "metadata": {},
   "outputs": [],
   "source": [
    "# Step 3: Freeze Convolutional Layers"
   ]
  },
  {
   "cell_type": "code",
   "execution_count": 10,
   "id": "3cfc73f3-ab60-4edc-a175-5ed5df060886",
   "metadata": {},
   "outputs": [],
   "source": [
    "for param in vgg.features.parameters():\n",
    "    param.requires_grad = False"
   ]
  },
  {
   "cell_type": "code",
   "execution_count": null,
   "id": "2d0efd9b-1cf0-47fd-997b-d31e12d6ef9d",
   "metadata": {},
   "outputs": [],
   "source": [
    "# Step 4: Add Custom Classifier with Trainable Parameters"
   ]
  },
  {
   "cell_type": "code",
   "execution_count": 11,
   "id": "5ae37555-61db-4311-9edf-6775267e0df5",
   "metadata": {},
   "outputs": [],
   "source": [
    "# Modify the classifier to fit MNIST (10 classes)\n",
    "vgg.classifier[6] = nn.Linear(4096, 10)"
   ]
  },
  {
   "cell_type": "code",
   "execution_count": null,
   "id": "785489f2-4472-487d-a481-4422b56665dc",
   "metadata": {},
   "outputs": [],
   "source": [
    "# Step 5:  Train Classifier Layers on Training Data"
   ]
  },
  {
   "cell_type": "code",
   "execution_count": null,
   "id": "88d35a86-9eac-4214-9d00-3e3113264924",
   "metadata": {},
   "outputs": [],
   "source": [
    "# Define loss and optimizer\n",
    "criterion = nn.CrossEntropyLoss()\n",
    "optimizer = optim.Adam(vgg.classifier.parameters(), lr=0.001)\n",
    "\n",
    "def train_model(model, train_loader, criterion, optimizer, num_epochs=5):\n",
    "    model.train()\n",
    "    for epoch in range(num_epochs):\n",
    "        running_loss = 0.0\n",
    "        for inputs, labels in train_loader:\n",
    "            optimizer.zero_grad()\n",
    "            outputs = model(inputs)\n",
    "            loss = criterion(outputs, labels)\n",
    "            loss.backward()\n",
    "            optimizer.step()\n",
    "            running_loss += loss.item()\n",
    "        print(f\"Epoch {epoch+1}, Loss: {running_loss/len(train_loader)}\")\n",
    "\n",
    "train_model(vgg, train_loader, criterion, optimizer, num_epochs=5)"
   ]
  },
  {
   "cell_type": "code",
   "execution_count": null,
   "id": "b6af2bb0-e55b-4aa0-8812-faf499eea4ec",
   "metadata": {},
   "outputs": [],
   "source": [
    "# Fine-tune Hyperparameters and Unfreeze More Layers as Needed"
   ]
  },
  {
   "cell_type": "code",
   "execution_count": null,
   "id": "1c80a6cf-6f5e-4cab-92f2-b4bc34f68629",
   "metadata": {},
   "outputs": [],
   "source": [
    "for param in vgg.features[10:].parameters():\n",
    "    param.requires_grad = True\n",
    "\n",
    "# Re-define optimizer to include newly unfrozen parameters\n",
    "optimizer = torch.optim.Adam(filter(lambda p: p.requires_grad, vgg.parameters()), lr=0.0001)\n",
    "\n",
    "# Fine-tune the model\n",
    "train_model(vgg, train_loader, criterion, optimizer, num_epochs=3)"
   ]
  },
  {
   "cell_type": "code",
   "execution_count": null,
   "id": "b3e790b6-2490-4b44-8c7a-d7ccdba42888",
   "metadata": {},
   "outputs": [],
   "source": [
    "# Final Evaluation"
   ]
  },
  {
   "cell_type": "code",
   "execution_count": null,
   "id": "a946576d-2feb-459c-9a96-f19e1e7a8880",
   "metadata": {},
   "outputs": [],
   "source": [
    "def evaluate_model(model, test_loader):\n",
    "    model.eval()\n",
    "    correct = 0\n",
    "    total = 0\n",
    "    with torch.no_grad():\n",
    "        for inputs, labels in test_loader:\n",
    "            outputs = model(inputs)\n",
    "            _, predicted = torch.max(outputs, 1)\n",
    "            total += labels.size(0)\n",
    "            correct += (predicted == labels).sum().item()\n",
    "    print(f\"Test Accuracy: {100 * correct / total}%\")\n",
    "\n",
    "evaluate_model(vgg, test_loader)"
   ]
  }
 ],
 "metadata": {
  "kernelspec": {
   "display_name": "Python 3 (ipykernel)",
   "language": "python",
   "name": "python3"
  },
  "language_info": {
   "codemirror_mode": {
    "name": "ipython",
    "version": 3
   },
   "file_extension": ".py",
   "mimetype": "text/x-python",
   "name": "python",
   "nbconvert_exporter": "python",
   "pygments_lexer": "ipython3",
   "version": "3.12.0"
  }
 },
 "nbformat": 4,
 "nbformat_minor": 5
}

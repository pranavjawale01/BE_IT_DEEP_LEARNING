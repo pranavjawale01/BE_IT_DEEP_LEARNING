{
 "cells": [
  {
   "cell_type": "code",
   "execution_count": 40,
   "id": "ddff715c-5e1b-42cb-b86b-cbc4f0cad140",
   "metadata": {},
   "outputs": [],
   "source": [
    "# Demonstrate use of TensorFlow and PyTorch by implementing simple code in Python"
   ]
  },
  {
   "cell_type": "code",
   "execution_count": 41,
   "id": "d6b3628f-471f-4526-b7ae-2781815eb623",
   "metadata": {},
   "outputs": [],
   "source": [
    "# 1. TensorFlow"
   ]
  },
  {
   "cell_type": "code",
   "execution_count": 42,
   "id": "2c139484-21bc-4f2e-8d90-5aa6e81b58c5",
   "metadata": {},
   "outputs": [],
   "source": [
    "import tensorflow as tf"
   ]
  },
  {
   "cell_type": "code",
   "execution_count": 43,
   "id": "c0797850-4200-4c51-9f5e-a73ff9fbb854",
   "metadata": {},
   "outputs": [],
   "source": [
    "model = tf.keras.Sequential([\n",
    "    tf.keras.layers.Dense(64, activation='relu', input_shape=(32, )),\n",
    "    tf.keras.layers.Dense(10, activation='softmax')\n",
    "])"
   ]
  },
  {
   "cell_type": "code",
   "execution_count": 44,
   "id": "26af1025-6c30-4da2-8745-9f89f23d3241",
   "metadata": {},
   "outputs": [],
   "source": [
    "model.compile(optimizer='adam', loss='sparse_categorical_crossentropy', metrics=['accuracy'])"
   ]
  },
  {
   "cell_type": "code",
   "execution_count": 45,
   "id": "7c1308db-baa7-472b-9796-7a2635792a63",
   "metadata": {},
   "outputs": [],
   "source": [
    "import numpy as np\n",
    "x_train = np.random.rand(1000, 32)\n",
    "y_train = np.random.randint(0, 10, size=(1000,))"
   ]
  },
  {
   "cell_type": "code",
   "execution_count": 46,
   "id": "e10ed6c3-2319-499a-9779-d74fc69efb34",
   "metadata": {},
   "outputs": [
    {
     "name": "stdout",
     "output_type": "stream",
     "text": [
      "Epoch 1/10\n",
      "\u001b[1m32/32\u001b[0m \u001b[32m━━━━━━━━━━━━━━━━━━━━\u001b[0m\u001b[37m\u001b[0m \u001b[1m1s\u001b[0m 3ms/step - accuracy: 0.1083 - loss: 2.3565\n",
      "Epoch 2/10\n",
      "\u001b[1m32/32\u001b[0m \u001b[32m━━━━━━━━━━━━━━━━━━━━\u001b[0m\u001b[37m\u001b[0m \u001b[1m0s\u001b[0m 4ms/step - accuracy: 0.1077 - loss: 2.3160\n",
      "Epoch 3/10\n",
      "\u001b[1m32/32\u001b[0m \u001b[32m━━━━━━━━━━━━━━━━━━━━\u001b[0m\u001b[37m\u001b[0m \u001b[1m0s\u001b[0m 3ms/step - accuracy: 0.1299 - loss: 2.2965\n",
      "Epoch 4/10\n",
      "\u001b[1m32/32\u001b[0m \u001b[32m━━━━━━━━━━━━━━━━━━━━\u001b[0m\u001b[37m\u001b[0m \u001b[1m0s\u001b[0m 5ms/step - accuracy: 0.1175 - loss: 2.2791\n",
      "Epoch 5/10\n",
      "\u001b[1m32/32\u001b[0m \u001b[32m━━━━━━━━━━━━━━━━━━━━\u001b[0m\u001b[37m\u001b[0m \u001b[1m0s\u001b[0m 3ms/step - accuracy: 0.1306 - loss: 2.2904\n",
      "Epoch 6/10\n",
      "\u001b[1m32/32\u001b[0m \u001b[32m━━━━━━━━━━━━━━━━━━━━\u001b[0m\u001b[37m\u001b[0m \u001b[1m0s\u001b[0m 3ms/step - accuracy: 0.1296 - loss: 2.2795\n",
      "Epoch 7/10\n",
      "\u001b[1m32/32\u001b[0m \u001b[32m━━━━━━━━━━━━━━━━━━━━\u001b[0m\u001b[37m\u001b[0m \u001b[1m0s\u001b[0m 2ms/step - accuracy: 0.1473 - loss: 2.2732\n",
      "Epoch 8/10\n",
      "\u001b[1m32/32\u001b[0m \u001b[32m━━━━━━━━━━━━━━━━━━━━\u001b[0m\u001b[37m\u001b[0m \u001b[1m0s\u001b[0m 3ms/step - accuracy: 0.1551 - loss: 2.2654\n",
      "Epoch 9/10\n",
      "\u001b[1m32/32\u001b[0m \u001b[32m━━━━━━━━━━━━━━━━━━━━\u001b[0m\u001b[37m\u001b[0m \u001b[1m0s\u001b[0m 3ms/step - accuracy: 0.1545 - loss: 2.2579\n",
      "Epoch 10/10\n",
      "\u001b[1m32/32\u001b[0m \u001b[32m━━━━━━━━━━━━━━━━━━━━\u001b[0m\u001b[37m\u001b[0m \u001b[1m0s\u001b[0m 2ms/step - accuracy: 0.1510 - loss: 2.2542\n"
     ]
    },
    {
     "data": {
      "text/plain": [
       "<keras.src.callbacks.history.History at 0x2704bd76900>"
      ]
     },
     "execution_count": 46,
     "metadata": {},
     "output_type": "execute_result"
    }
   ],
   "source": [
    "model.fit(x_train, y_train, epochs=10)"
   ]
  },
  {
   "cell_type": "code",
   "execution_count": 47,
   "id": "4e3fff2c-8ff0-4b7b-8a51-793b3d980888",
   "metadata": {},
   "outputs": [],
   "source": [
    "# Other Operations in Tensorflow"
   ]
  },
  {
   "cell_type": "code",
   "execution_count": 48,
   "id": "27308d27-6fa0-4df8-957e-00b298a892e2",
   "metadata": {},
   "outputs": [],
   "source": [
    "import tensorflow as tf\n",
    "import numpy as np"
   ]
  },
  {
   "cell_type": "code",
   "execution_count": 49,
   "id": "383cb769-7611-4f81-a7b4-cc50adb99850",
   "metadata": {},
   "outputs": [
    {
     "name": "stdout",
     "output_type": "stream",
     "text": [
      "tf.Tensor(\n",
      "[[1 2]\n",
      " [3 4]], shape=(2, 2), dtype=int32)\n"
     ]
    }
   ],
   "source": [
    "tensor_from_list = tf.constant([[1, 2], [3, 4]])\n",
    "print(tensor_from_list)"
   ]
  },
  {
   "cell_type": "code",
   "execution_count": 50,
   "id": "2cd9f0e8-4998-4648-ae5f-491825cd5d35",
   "metadata": {},
   "outputs": [
    {
     "name": "stdout",
     "output_type": "stream",
     "text": [
      "tf.Tensor(\n",
      "[[57.042496 37.50918  52.217247 56.58146 ]\n",
      " [34.233955 48.539467 50.77549  36.913376]], shape=(2, 4), dtype=float32)\n"
     ]
    }
   ],
   "source": [
    "random_tensor = tf.random.uniform(shape=(2, 4), minval = 32, maxval = 64)\n",
    "print(random_tensor)"
   ]
  },
  {
   "cell_type": "code",
   "execution_count": 51,
   "id": "83e794d0-e830-4958-b803-17a3032ad2b3",
   "metadata": {},
   "outputs": [
    {
     "name": "stdout",
     "output_type": "stream",
     "text": [
      "tf.Tensor(\n",
      "[[0. 0. 0.]\n",
      " [0. 0. 0.]], shape=(2, 3), dtype=float32)\n"
     ]
    }
   ],
   "source": [
    "zero_tensor = tf.zeros(shape=(2, 3))\n",
    "print(zero_tensor)"
   ]
  },
  {
   "cell_type": "code",
   "execution_count": 52,
   "id": "b08682c7-8405-45bc-b8c5-570623e491c7",
   "metadata": {},
   "outputs": [
    {
     "name": "stdout",
     "output_type": "stream",
     "text": [
      "tf.Tensor(\n",
      "[[1. 1. 1.]\n",
      " [1. 1. 1.]], shape=(2, 3), dtype=float32)\n"
     ]
    }
   ],
   "source": [
    "one_tensor = tf.ones(shape=(2, 3))\n",
    "print(one_tensor)"
   ]
  },
  {
   "cell_type": "code",
   "execution_count": 53,
   "id": "68e2830f-4e93-4559-9db0-e97124bd845e",
   "metadata": {},
   "outputs": [
    {
     "name": "stdout",
     "output_type": "stream",
     "text": [
      "tf.Tensor(\n",
      "[[ 6  8]\n",
      " [10 12]], shape=(2, 2), dtype=int32)\n",
      "tf.Tensor(\n",
      "[[-4 -4]\n",
      " [-4 -4]], shape=(2, 2), dtype=int32)\n",
      "tf.Tensor(\n",
      "[[ 5 12]\n",
      " [21 32]], shape=(2, 2), dtype=int32)\n",
      "tf.Tensor(\n",
      "[[0.2        0.33333333]\n",
      " [0.42857143 0.5       ]], shape=(2, 2), dtype=float64)\n"
     ]
    }
   ],
   "source": [
    "a = tf.constant([[1, 2], [3, 4]])\n",
    "b = tf.constant([[5, 6], [7, 8]])\n",
    "\n",
    "print(tf.add(a, b))\n",
    "print(tf.subtract(a, b))\n",
    "print(tf.multiply(a, b))\n",
    "print(tf.divide(a, b))"
   ]
  },
  {
   "cell_type": "code",
   "execution_count": 54,
   "id": "bdd9f04b-af86-47c3-ab35-1f85ee0e57df",
   "metadata": {},
   "outputs": [
    {
     "name": "stdout",
     "output_type": "stream",
     "text": [
      "tf.Tensor(\n",
      "[[1 2]\n",
      " [3 4]], shape=(2, 2), dtype=int64)\n"
     ]
    }
   ],
   "source": [
    "np_arr = np.array([[1, 2], [3, 4]])\n",
    "tensor_from_np = tf.convert_to_tensor(np_arr)\n",
    "print(tensor_from_np)"
   ]
  },
  {
   "cell_type": "code",
   "execution_count": null,
   "id": "acb77cda-0a2e-4a4b-8a21-77f337cc3d58",
   "metadata": {},
   "outputs": [],
   "source": []
  },
  {
   "cell_type": "code",
   "execution_count": 55,
   "id": "6c14d883-2366-434f-8199-2f0028cada8f",
   "metadata": {},
   "outputs": [],
   "source": [
    "# 2. Keras"
   ]
  },
  {
   "cell_type": "code",
   "execution_count": 56,
   "id": "e87f1033-0a8f-4800-845b-9ff32daa9793",
   "metadata": {},
   "outputs": [],
   "source": [
    "from keras.models import Sequential\n",
    "from keras.layers import Dense\n",
    "import numpy as np"
   ]
  },
  {
   "cell_type": "code",
   "execution_count": 57,
   "id": "a754175d-8058-4ef4-9bc7-5b3390969b8a",
   "metadata": {},
   "outputs": [],
   "source": [
    "model = Sequential()\n",
    "model.add(Dense(64, activation='relu', input_shape=(32,)))\n",
    "model.add(Dense(10, activation='softmax'))"
   ]
  },
  {
   "cell_type": "code",
   "execution_count": 58,
   "id": "659ab006-7754-4a7e-86ab-487f4aa74ba3",
   "metadata": {},
   "outputs": [],
   "source": [
    "model.compile(optimizer='adam', loss='sparse_categorical_crossentropy', metrics=['accuracy'])"
   ]
  },
  {
   "cell_type": "code",
   "execution_count": 59,
   "id": "d0ab8423-2146-4137-b861-b52c84e035e8",
   "metadata": {},
   "outputs": [],
   "source": [
    "x_train = np.random.rand(1000, 32)\n",
    "y_train = np.random.randint(0, 10, size=(1000, ))"
   ]
  },
  {
   "cell_type": "code",
   "execution_count": 60,
   "id": "531f8c08-b7f0-43fe-846c-8b086207c9ea",
   "metadata": {},
   "outputs": [
    {
     "name": "stdout",
     "output_type": "stream",
     "text": [
      "Epoch 1/10\n",
      "\u001b[1m32/32\u001b[0m \u001b[32m━━━━━━━━━━━━━━━━━━━━\u001b[0m\u001b[37m\u001b[0m \u001b[1m1s\u001b[0m 2ms/step - accuracy: 0.0941 - loss: 2.3740\n",
      "Epoch 2/10\n",
      "\u001b[1m32/32\u001b[0m \u001b[32m━━━━━━━━━━━━━━━━━━━━\u001b[0m\u001b[37m\u001b[0m \u001b[1m0s\u001b[0m 2ms/step - accuracy: 0.0916 - loss: 2.3130\n",
      "Epoch 3/10\n",
      "\u001b[1m32/32\u001b[0m \u001b[32m━━━━━━━━━━━━━━━━━━━━\u001b[0m\u001b[37m\u001b[0m \u001b[1m0s\u001b[0m 3ms/step - accuracy: 0.1147 - loss: 2.2959\n",
      "Epoch 4/10\n",
      "\u001b[1m32/32\u001b[0m \u001b[32m━━━━━━━━━━━━━━━━━━━━\u001b[0m\u001b[37m\u001b[0m \u001b[1m0s\u001b[0m 3ms/step - accuracy: 0.0930 - loss: 2.3070\n",
      "Epoch 5/10\n",
      "\u001b[1m32/32\u001b[0m \u001b[32m━━━━━━━━━━━━━━━━━━━━\u001b[0m\u001b[37m\u001b[0m \u001b[1m0s\u001b[0m 2ms/step - accuracy: 0.1387 - loss: 2.2881\n",
      "Epoch 6/10\n",
      "\u001b[1m32/32\u001b[0m \u001b[32m━━━━━━━━━━━━━━━━━━━━\u001b[0m\u001b[37m\u001b[0m \u001b[1m0s\u001b[0m 3ms/step - accuracy: 0.1287 - loss: 2.2869\n",
      "Epoch 7/10\n",
      "\u001b[1m32/32\u001b[0m \u001b[32m━━━━━━━━━━━━━━━━━━━━\u001b[0m\u001b[37m\u001b[0m \u001b[1m0s\u001b[0m 3ms/step - accuracy: 0.1727 - loss: 2.2685\n",
      "Epoch 8/10\n",
      "\u001b[1m32/32\u001b[0m \u001b[32m━━━━━━━━━━━━━━━━━━━━\u001b[0m\u001b[37m\u001b[0m \u001b[1m0s\u001b[0m 2ms/step - accuracy: 0.1657 - loss: 2.2560\n",
      "Epoch 9/10\n",
      "\u001b[1m32/32\u001b[0m \u001b[32m━━━━━━━━━━━━━━━━━━━━\u001b[0m\u001b[37m\u001b[0m \u001b[1m0s\u001b[0m 3ms/step - accuracy: 0.1617 - loss: 2.2479\n",
      "Epoch 10/10\n",
      "\u001b[1m32/32\u001b[0m \u001b[32m━━━━━━━━━━━━━━━━━━━━\u001b[0m\u001b[37m\u001b[0m \u001b[1m0s\u001b[0m 3ms/step - accuracy: 0.1755 - loss: 2.2466\n"
     ]
    },
    {
     "data": {
      "text/plain": [
       "<keras.src.callbacks.history.History at 0x2704bd750d0>"
      ]
     },
     "execution_count": 60,
     "metadata": {},
     "output_type": "execute_result"
    }
   ],
   "source": [
    "model.fit(x_train, y_train, epochs=10)"
   ]
  },
  {
   "cell_type": "code",
   "execution_count": 61,
   "id": "af15ec15-50dd-4ffe-8f0f-f428637c9b39",
   "metadata": {},
   "outputs": [],
   "source": [
    "# Other operations in keras"
   ]
  },
  {
   "cell_type": "code",
   "execution_count": 62,
   "id": "8a768d25-1693-4155-aa72-c6ca1cfeab2d",
   "metadata": {},
   "outputs": [],
   "source": [
    "import tensorflow as tf\n",
    "from tensorflow.keras import backend as k\n",
    "import numpy as np"
   ]
  },
  {
   "cell_type": "code",
   "execution_count": 63,
   "id": "1e9f31e7-8da0-47d1-97df-69bc1d59f1b5",
   "metadata": {},
   "outputs": [
    {
     "name": "stdout",
     "output_type": "stream",
     "text": [
      "tf.Tensor(\n",
      "[[1. 2.]\n",
      " [3. 4.]], shape=(2, 2), dtype=float32)\n"
     ]
    }
   ],
   "source": [
    "tensor_from_list = k.constant([[1, 2], [3, 4]])\n",
    "print(tensor_from_list)"
   ]
  },
  {
   "cell_type": "code",
   "execution_count": 64,
   "id": "525b5a3e-4fd5-4731-aa1a-b436a4b1f2db",
   "metadata": {},
   "outputs": [
    {
     "name": "stdout",
     "output_type": "stream",
     "text": [
      "[[ 6.  8.]\n",
      " [10. 12.]]\n",
      "[[-4. -4.]\n",
      " [-4. -4.]]\n",
      "[[ 5. 12.]\n",
      " [21. 32.]]\n",
      "[[0.2        0.33333334]\n",
      " [0.42857143 0.5       ]]\n"
     ]
    }
   ],
   "source": [
    "a = k.constant([[1, 2], [3, 4]])\n",
    "b = k.constant([[5, 6], [7, 8]])\n",
    "\n",
    "print(k.eval(a+b))\n",
    "print(k.eval(a-b))\n",
    "print(k.eval(a*b))\n",
    "print(k.eval(a/b))"
   ]
  },
  {
   "cell_type": "code",
   "execution_count": 65,
   "id": "717125ed-659d-40cb-934e-deeefeed5a6e",
   "metadata": {},
   "outputs": [
    {
     "name": "stdout",
     "output_type": "stream",
     "text": [
      "tf.Tensor(\n",
      "[[1. 2.]\n",
      " [3. 4.]\n",
      " [5. 6.]\n",
      " [7. 8.]], shape=(4, 2), dtype=float32)\n"
     ]
    }
   ],
   "source": [
    "concat_tensor = k.concatenate([a, b], axis = 0)\n",
    "print(concat_tensor)"
   ]
  },
  {
   "cell_type": "code",
   "execution_count": 66,
   "id": "a2b78e86-9894-42d0-87a8-16bb5de47ad1",
   "metadata": {},
   "outputs": [
    {
     "name": "stdout",
     "output_type": "stream",
     "text": [
      "tf.Tensor(\n",
      "[[1. 2. 3. 4.]\n",
      " [5. 6. 7. 8.]], shape=(2, 4), dtype=float32)\n"
     ]
    }
   ],
   "source": [
    "tensor_reshape = k.reshape(concat_tensor, shape=(2, 4))\n",
    "print(tensor_reshape)"
   ]
  },
  {
   "cell_type": "code",
   "execution_count": null,
   "id": "027295da-acc4-40b0-83dc-d75e897725e8",
   "metadata": {},
   "outputs": [],
   "source": []
  },
  {
   "cell_type": "code",
   "execution_count": 67,
   "id": "16971ab2-65cc-498a-b8ee-2b1ed40ebff6",
   "metadata": {},
   "outputs": [],
   "source": [
    "# 3. Theano"
   ]
  },
  {
   "cell_type": "code",
   "execution_count": null,
   "id": "382a5be7-0fa2-4c73-b4e2-e465c1c4b1f6",
   "metadata": {},
   "outputs": [],
   "source": [
    "import theano\n",
    "import theano.tensor as T\n",
    "import numpy as np"
   ]
  },
  {
   "cell_type": "code",
   "execution_count": null,
   "id": "52f59efd-0441-49eb-a386-b4f7e55fe862",
   "metadata": {},
   "outputs": [],
   "source": [
    "x = T.dmatrix('x')\n",
    "w = T.dmatrix('w')\n",
    "b = T.dvector('b')"
   ]
  },
  {
   "cell_type": "code",
   "execution_count": null,
   "id": "6f24b728-8ce5-4aad-ab78-d6b8f44d9724",
   "metadata": {},
   "outputs": [],
   "source": [
    "y = T.dot(x, w) + b"
   ]
  },
  {
   "cell_type": "code",
   "execution_count": null,
   "id": "48e3a39c-1b7a-4f49-be9c-5643ab689c54",
   "metadata": {},
   "outputs": [],
   "source": [
    "model = theano.function(inputs=[x, w, b], outputs=y)"
   ]
  },
  {
   "cell_type": "code",
   "execution_count": null,
   "id": "df64544c-8401-4f4e-aa50-e3856df7b5f4",
   "metadata": {},
   "outputs": [],
   "source": [
    "x_data = np.random.rand(100, 32)\n",
    "w_data = np.random.rand(32, 10)\n",
    "b_data = np.random.rand(10)"
   ]
  },
  {
   "cell_type": "code",
   "execution_count": null,
   "id": "5c803905-bfc3-4e93-b6b8-aa255467e741",
   "metadata": {},
   "outputs": [],
   "source": [
    "output = model(x_data, w_data, b_data)\n",
    "print(output)"
   ]
  },
  {
   "cell_type": "code",
   "execution_count": null,
   "id": "e7453cec-bc1a-4c7c-a350-5c02dac1f6db",
   "metadata": {},
   "outputs": [],
   "source": [
    "# other operations in theano"
   ]
  },
  {
   "cell_type": "code",
   "execution_count": null,
   "id": "b8cc8dd4-0ce8-4e21-8670-78ef6a9cd257",
   "metadata": {},
   "outputs": [],
   "source": [
    "a_val = np.array([[1, 2], [3, 4]], dtype=theano.config.floatX)\n",
    "b_val = np.array([[5, 6], [7, 8]], dtype=theano.config.floatX)"
   ]
  },
  {
   "cell_type": "code",
   "execution_count": null,
   "id": "c71373df-d03a-4948-beac-08d3d9168b39",
   "metadata": {},
   "outputs": [],
   "source": [
    "add_result = a + b\n",
    "sub_result = a - b\n",
    "mul_result = a * b\n",
    "div_result = a / b"
   ]
  },
  {
   "cell_type": "code",
   "execution_count": null,
   "id": "e018dd81-adac-4a2f-b425-f5aa093108f8",
   "metadata": {},
   "outputs": [],
   "source": [
    "f_add = theano.function([a, b], add_result)\n",
    "f_sub = theano.function([a, b], sub_result)\n",
    "f_mul = theano.function([a, b], mul_result)\n",
    "f_div = theano.function([a, b], div_result)\n",
    "\n",
    "print(\"Addition:\\n\", f_add(a_val, b_val))\n",
    "print(\"Subtraction:\\n\", f_sub(a_val, b_val))\n",
    "print(\"Multiplication:\\n\", f_mul(a_val, b_val))\n",
    "print(\"Division:\\n\", f_div(a_val, b_val))"
   ]
  },
  {
   "cell_type": "code",
   "execution_count": null,
   "id": "3331019f-f4df-4694-a682-78a42519d058",
   "metadata": {},
   "outputs": [],
   "source": []
  },
  {
   "cell_type": "code",
   "execution_count": 69,
   "id": "2ea44398-0dc6-4d1d-aa0d-8a7cd79049b9",
   "metadata": {},
   "outputs": [],
   "source": [
    "# 4. PyTorch"
   ]
  },
  {
   "cell_type": "code",
   "execution_count": 70,
   "id": "4a9eaa7f-3186-4b42-bc45-3a0fb546e91d",
   "metadata": {},
   "outputs": [],
   "source": [
    "import torch\n",
    "import torch.nn as nn\n",
    "import torch.optim as optim"
   ]
  },
  {
   "cell_type": "code",
   "execution_count": 71,
   "id": "1f3a185c-8221-42a1-8160-e823c8756dae",
   "metadata": {},
   "outputs": [],
   "source": [
    "class SimpleNN(nn.Module):\n",
    "    def __init__(self):\n",
    "        super(SimpleNN, self).__init__()\n",
    "        self.fc1 = nn.Linear(32, 64)\n",
    "        self.fc2 = nn.Linear(64, 10)\n",
    "\n",
    "    def forward(self, x):\n",
    "        x = torch.relu(self.fc1(x))\n",
    "        return self.fc2(x)"
   ]
  },
  {
   "cell_type": "code",
   "execution_count": 72,
   "id": "a38d1bf6-16a0-4c6b-af4f-04740f11b007",
   "metadata": {},
   "outputs": [],
   "source": [
    "model = SimpleNN()"
   ]
  },
  {
   "cell_type": "code",
   "execution_count": 73,
   "id": "150d0a6b-99fc-4b39-8139-ac5f5124d868",
   "metadata": {},
   "outputs": [],
   "source": [
    "criterion = nn.CrossEntropyLoss()\n",
    "optimizer = optim.Adam(model.parameters())"
   ]
  },
  {
   "cell_type": "code",
   "execution_count": 74,
   "id": "b037660c-d471-4be9-be48-f3e23ebcffab",
   "metadata": {},
   "outputs": [],
   "source": [
    "x_train = torch.rand(1000, 32)\n",
    "y_train = torch.randint(0, 10, (1000,))"
   ]
  },
  {
   "cell_type": "code",
   "execution_count": 75,
   "id": "b7f55d41-38c9-4841-9d3f-0fa1e12cd00d",
   "metadata": {},
   "outputs": [
    {
     "name": "stdout",
     "output_type": "stream",
     "text": [
      "Epoch [1/10], Loss: 2.3109\n",
      "Epoch [2/10], Loss: 2.3075\n",
      "Epoch [3/10], Loss: 2.3046\n",
      "Epoch [4/10], Loss: 2.3021\n",
      "Epoch [5/10], Loss: 2.2999\n",
      "Epoch [6/10], Loss: 2.2981\n",
      "Epoch [7/10], Loss: 2.2965\n",
      "Epoch [8/10], Loss: 2.2951\n",
      "Epoch [9/10], Loss: 2.2940\n",
      "Epoch [10/10], Loss: 2.2929\n"
     ]
    }
   ],
   "source": [
    "for epoch in range(10):\n",
    "    model.train()\n",
    "    optimizer.zero_grad()\n",
    "    outputs = model(x_train)\n",
    "    loss = criterion(outputs, y_train)\n",
    "    loss.backward()\n",
    "    optimizer.step()\n",
    "    print(f'Epoch [{epoch+1}/10], Loss: {loss.item():.4f}')"
   ]
  },
  {
   "cell_type": "code",
   "execution_count": null,
   "id": "53fe3e3a-fb6d-4652-a589-797e1c699f02",
   "metadata": {},
   "outputs": [],
   "source": []
  },
  {
   "cell_type": "code",
   "execution_count": 76,
   "id": "4a0f83b4-1f7a-4f69-84e9-1622bf0286fe",
   "metadata": {},
   "outputs": [],
   "source": [
    "# other operations in pytorch"
   ]
  },
  {
   "cell_type": "code",
   "execution_count": 77,
   "id": "39f943a4-4773-4084-ab8a-a0518f8459f8",
   "metadata": {},
   "outputs": [
    {
     "name": "stdout",
     "output_type": "stream",
     "text": [
      "Tensor from list:\n",
      " tensor([[1, 2],\n",
      "        [3, 4]])\n",
      "Random tensor:\n",
      " tensor([[0.1530, 0.0269, 0.9049],\n",
      "        [0.4769, 0.1833, 0.8903]])\n",
      "Zero tensor:\n",
      " tensor([[0., 0., 0.],\n",
      "        [0., 0., 0.]])\n",
      "Ones tensor:\n",
      " tensor([[1., 1., 1.],\n",
      "        [1., 1., 1.]])\n"
     ]
    }
   ],
   "source": [
    "data = [[1, 2], [3, 4]]\n",
    "tensor_from_list = torch.tensor(data)\n",
    "print(\"Tensor from list:\\n\", tensor_from_list)\n",
    "\n",
    "random_tensor = torch.rand((2, 3))\n",
    "print(\"Random tensor:\\n\", random_tensor)\n",
    "\n",
    "zero_tensor = torch.zeros((2, 3))\n",
    "print(\"Zero tensor:\\n\", zero_tensor)\n",
    "\n",
    "ones_tensor = torch.ones((2, 3))\n",
    "print(\"Ones tensor:\\n\", ones_tensor)"
   ]
  },
  {
   "cell_type": "code",
   "execution_count": 78,
   "id": "96a82995-a904-40c0-906e-0534774ce2a6",
   "metadata": {},
   "outputs": [
    {
     "name": "stdout",
     "output_type": "stream",
     "text": [
      "Addition:\n",
      " tensor([[ 6.,  8.],\n",
      "        [10., 12.]])\n",
      "Subtraction:\n",
      " tensor([[-4., -4.],\n",
      "        [-4., -4.]])\n",
      "Multiplication:\n",
      " tensor([[ 5., 12.],\n",
      "        [21., 32.]])\n",
      "Division:\n",
      " tensor([[0.2000, 0.3333],\n",
      "        [0.4286, 0.5000]])\n"
     ]
    }
   ],
   "source": [
    "a = torch.tensor([[1, 2], [3, 4]], dtype=torch.float32)\n",
    "b = torch.tensor([[5, 6], [7, 8]], dtype=torch.float32)\n",
    "print(\"Addition:\\n\", a + b)\n",
    "print(\"Subtraction:\\n\", a - b)\n",
    "print(\"Multiplication:\\n\", a * b)\n",
    "print(\"Division:\\n\", a / b)"
   ]
  },
  {
   "cell_type": "code",
   "execution_count": 79,
   "id": "a4fa30c0-9ea1-4939-be4b-eab30cb8d69d",
   "metadata": {},
   "outputs": [
    {
     "name": "stdout",
     "output_type": "stream",
     "text": [
      "Square root tensor:\n",
      " tensor([[1.0000, 1.4142],\n",
      "        [1.7321, 2.0000]])\n",
      "Exponential tensor:\n",
      " tensor([[ 2.7183,  7.3891],\n",
      "        [20.0855, 54.5981]])\n",
      "Logarithm tensor:\n",
      " tensor([[0.0000, 0.6931],\n",
      "        [1.0986, 1.3863]])\n"
     ]
    }
   ],
   "source": [
    "sqrt_tensor = torch.sqrt(a)\n",
    "print(\"Square root tensor:\\n\", sqrt_tensor)\n",
    "\n",
    "exp_tensor = torch.exp(a)\n",
    "print(\"Exponential tensor:\\n\", exp_tensor)\n",
    "\n",
    "log_tensor = torch.log(a)\n",
    "print(\"Logarithm tensor:\\n\", log_tensor)"
   ]
  },
  {
   "cell_type": "code",
   "execution_count": 80,
   "id": "10d886c8-a808-4893-bda1-e753e1e79c0f",
   "metadata": {},
   "outputs": [
    {
     "name": "stdout",
     "output_type": "stream",
     "text": [
      "Converted to NumPy array:\n",
      " [[1. 2.]\n",
      " [3. 4.]]\n",
      "Converted back to Tensor:\n",
      " tensor([[5., 6.],\n",
      "        [7., 8.]], dtype=torch.float64)\n"
     ]
    }
   ],
   "source": [
    "tensor_np = torch.tensor([[1.0, 2.0], [3.0, 4.0]])\n",
    "np_array = tensor_np.numpy()  # Convert to NumPy array\n",
    "print(\"Converted to NumPy array:\\n\", np_array)\n",
    "\n",
    "np_array = np.array([[5.0, 6.0], [7.0, 8.0]])\n",
    "tensor_from_np = torch.from_numpy(np_array)  # Convert NumPy array to tensor\n",
    "print(\"Converted back to Tensor:\\n\", tensor_from_np)"
   ]
  }
 ],
 "metadata": {
  "kernelspec": {
   "display_name": "Python 3 (ipykernel)",
   "language": "python",
   "name": "python3"
  },
  "language_info": {
   "codemirror_mode": {
    "name": "ipython",
    "version": 3
   },
   "file_extension": ".py",
   "mimetype": "text/x-python",
   "name": "python",
   "nbconvert_exporter": "python",
   "pygments_lexer": "ipython3",
   "version": "3.12.0"
  }
 },
 "nbformat": 4,
 "nbformat_minor": 5
}

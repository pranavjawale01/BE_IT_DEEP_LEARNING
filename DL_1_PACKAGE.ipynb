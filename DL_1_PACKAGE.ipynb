{
 "cells": [
  {
   "cell_type": "code",
   "execution_count": 79,
   "id": "08bb4ff3-15f4-453f-b57e-a0c3dfcac825",
   "metadata": {},
   "outputs": [],
   "source": [
    "# Study of Deep learning Packages: Tensorflow, Keras, Theano and PyTorch. Document the distinct features and functionality of the packages.  "
   ]
  },
  {
   "cell_type": "code",
   "execution_count": 80,
   "id": "af2d08ff-179b-44b6-8eac-312d3c048be3",
   "metadata": {},
   "outputs": [],
   "source": [
    "# 1. TensorFlow"
   ]
  },
  {
   "cell_type": "code",
   "execution_count": 81,
   "id": "9c74cd9c-4715-4c07-98c1-17e6e8b29fe3",
   "metadata": {},
   "outputs": [],
   "source": [
    "import tensorflow as tf"
   ]
  },
  {
   "cell_type": "code",
   "execution_count": 82,
   "id": "ec67fd27-5f9d-4547-b74b-9fab8d081447",
   "metadata": {},
   "outputs": [
    {
     "name": "stderr",
     "output_type": "stream",
     "text": [
      "C:\\Program Files\\Python312\\Lib\\site-packages\\keras\\src\\layers\\core\\dense.py:87: UserWarning: Do not pass an `input_shape`/`input_dim` argument to a layer. When using Sequential models, prefer using an `Input(shape)` object as the first layer in the model instead.\n",
      "  super().__init__(activity_regularizer=activity_regularizer, **kwargs)\n"
     ]
    }
   ],
   "source": [
    "model = tf.keras.Sequential([\n",
    "    tf.keras.layers.Dense(64, activation='relu', input_shape=(32, )),\n",
    "    tf.keras.layers.Dense(10, activation='softmax')\n",
    "])"
   ]
  },
  {
   "cell_type": "code",
   "execution_count": 83,
   "id": "83d62792-367a-40a0-be9c-569da2ef280b",
   "metadata": {},
   "outputs": [],
   "source": [
    "model.compile(optimizer='adam', loss='sparse_categorical_crossentropy', metrics=['accuracy'])"
   ]
  },
  {
   "cell_type": "code",
   "execution_count": 84,
   "id": "86ff0f17-e4df-4be2-9303-e013b32c8ef8",
   "metadata": {},
   "outputs": [],
   "source": [
    "import numpy as np\n",
    "x_train = np.random.rand(1000, 32)\n",
    "y_train = np.random.randint(0, 10, size=(1000,))"
   ]
  },
  {
   "cell_type": "code",
   "execution_count": 85,
   "id": "aecbf6dc-ae7f-4bb7-b913-3772ccec1979",
   "metadata": {},
   "outputs": [
    {
     "name": "stdout",
     "output_type": "stream",
     "text": [
      "Epoch 1/10\n",
      "\u001b[1m32/32\u001b[0m \u001b[32m━━━━━━━━━━━━━━━━━━━━\u001b[0m\u001b[37m\u001b[0m \u001b[1m1s\u001b[0m 3ms/step - accuracy: 0.1158 - loss: 2.3467\n",
      "Epoch 2/10\n",
      "\u001b[1m32/32\u001b[0m \u001b[32m━━━━━━━━━━━━━━━━━━━━\u001b[0m\u001b[37m\u001b[0m \u001b[1m0s\u001b[0m 4ms/step - accuracy: 0.1396 - loss: 2.2985\n",
      "Epoch 3/10\n",
      "\u001b[1m32/32\u001b[0m \u001b[32m━━━━━━━━━━━━━━━━━━━━\u001b[0m\u001b[37m\u001b[0m \u001b[1m0s\u001b[0m 9ms/step - accuracy: 0.1260 - loss: 2.2987\n",
      "Epoch 4/10\n",
      "\u001b[1m32/32\u001b[0m \u001b[32m━━━━━━━━━━━━━━━━━━━━\u001b[0m\u001b[37m\u001b[0m \u001b[1m0s\u001b[0m 4ms/step - accuracy: 0.1252 - loss: 2.2750\n",
      "Epoch 5/10\n",
      "\u001b[1m32/32\u001b[0m \u001b[32m━━━━━━━━━━━━━━━━━━━━\u001b[0m\u001b[37m\u001b[0m \u001b[1m0s\u001b[0m 2ms/step - accuracy: 0.1559 - loss: 2.2681\n",
      "Epoch 6/10\n",
      "\u001b[1m32/32\u001b[0m \u001b[32m━━━━━━━━━━━━━━━━━━━━\u001b[0m\u001b[37m\u001b[0m \u001b[1m0s\u001b[0m 3ms/step - accuracy: 0.1466 - loss: 2.2703\n",
      "Epoch 7/10\n",
      "\u001b[1m32/32\u001b[0m \u001b[32m━━━━━━━━━━━━━━━━━━━━\u001b[0m\u001b[37m\u001b[0m \u001b[1m0s\u001b[0m 3ms/step - accuracy: 0.1560 - loss: 2.2598\n",
      "Epoch 8/10\n",
      "\u001b[1m32/32\u001b[0m \u001b[32m━━━━━━━━━━━━━━━━━━━━\u001b[0m\u001b[37m\u001b[0m \u001b[1m0s\u001b[0m 3ms/step - accuracy: 0.1747 - loss: 2.2514\n",
      "Epoch 9/10\n",
      "\u001b[1m32/32\u001b[0m \u001b[32m━━━━━━━━━━━━━━━━━━━━\u001b[0m\u001b[37m\u001b[0m \u001b[1m0s\u001b[0m 3ms/step - accuracy: 0.1896 - loss: 2.2338\n",
      "Epoch 10/10\n",
      "\u001b[1m32/32\u001b[0m \u001b[32m━━━━━━━━━━━━━━━━━━━━\u001b[0m\u001b[37m\u001b[0m \u001b[1m0s\u001b[0m 3ms/step - accuracy: 0.2041 - loss: 2.2360\n"
     ]
    },
    {
     "data": {
      "text/plain": [
       "<keras.src.callbacks.history.History at 0x25d5b54b410>"
      ]
     },
     "execution_count": 85,
     "metadata": {},
     "output_type": "execute_result"
    }
   ],
   "source": [
    "model.fit(x_train, y_train, epochs=10)"
   ]
  },
  {
   "cell_type": "code",
   "execution_count": 86,
   "id": "e5e7a8a0-5522-49c3-92fc-5443f9a03075",
   "metadata": {},
   "outputs": [],
   "source": [
    "# Other Operations in Tensorflow"
   ]
  },
  {
   "cell_type": "code",
   "execution_count": 87,
   "id": "9016e4cb-edb9-4ff1-a644-7d840a55aad8",
   "metadata": {},
   "outputs": [],
   "source": [
    "import tensorflow as tf\n",
    "import numpy as np"
   ]
  },
  {
   "cell_type": "code",
   "execution_count": 88,
   "id": "399b5975-c96d-48eb-8e50-ad99e6916005",
   "metadata": {},
   "outputs": [
    {
     "name": "stdout",
     "output_type": "stream",
     "text": [
      "tf.Tensor(\n",
      "[[1 2]\n",
      " [3 4]], shape=(2, 2), dtype=int32)\n"
     ]
    }
   ],
   "source": [
    "tensor_from_list = tf.constant([[1, 2], [3, 4]])\n",
    "print(tensor_from_list)"
   ]
  },
  {
   "cell_type": "raw",
   "id": "a66f390b-b8ab-460a-88b2-97fbd745213c",
   "metadata": {},
   "source": [
    "random_tensor = tf.random.uniform(shape=(2, 4), minval = 32, maxval = 64)\n",
    "print(random_tensor)"
   ]
  },
  {
   "cell_type": "code",
   "execution_count": 89,
   "id": "14a298da-421b-4f14-8356-c2f95eb1b5bd",
   "metadata": {},
   "outputs": [
    {
     "name": "stdout",
     "output_type": "stream",
     "text": [
      "tf.Tensor(\n",
      "[[0. 0. 0.]\n",
      " [0. 0. 0.]], shape=(2, 3), dtype=float32)\n"
     ]
    }
   ],
   "source": [
    "zero_tensor = tf.zeros(shape=(2, 3))\n",
    "print(zero_tensor)"
   ]
  },
  {
   "cell_type": "code",
   "execution_count": 90,
   "id": "b06974c5-d6ef-4355-b6ff-5812a7a40ae4",
   "metadata": {},
   "outputs": [
    {
     "name": "stdout",
     "output_type": "stream",
     "text": [
      "tf.Tensor(\n",
      "[[1. 1. 1.]\n",
      " [1. 1. 1.]], shape=(2, 3), dtype=float32)\n"
     ]
    }
   ],
   "source": [
    "one_tensor = tf.ones(shape=(2, 3))\n",
    "print(one_tensor)"
   ]
  },
  {
   "cell_type": "code",
   "execution_count": 91,
   "id": "ece50695-bc19-42af-a918-7fe73fd504ee",
   "metadata": {},
   "outputs": [
    {
     "name": "stdout",
     "output_type": "stream",
     "text": [
      "tf.Tensor(\n",
      "[[ 6  8]\n",
      " [10 12]], shape=(2, 2), dtype=int32)\n",
      "tf.Tensor(\n",
      "[[-4 -4]\n",
      " [-4 -4]], shape=(2, 2), dtype=int32)\n",
      "tf.Tensor(\n",
      "[[ 5 12]\n",
      " [21 32]], shape=(2, 2), dtype=int32)\n",
      "tf.Tensor(\n",
      "[[0.2        0.33333333]\n",
      " [0.42857143 0.5       ]], shape=(2, 2), dtype=float64)\n"
     ]
    }
   ],
   "source": [
    "a = tf.constant([[1, 2], [3, 4]])\n",
    "b = tf.constant([[5, 6], [7, 8]])\n",
    "\n",
    "print(tf.add(a, b))\n",
    "print(tf.subtract(a, b))\n",
    "print(tf.multiply(a, b))\n",
    "print(tf.divide(a, b))"
   ]
  },
  {
   "cell_type": "code",
   "execution_count": 92,
   "id": "60c057cf-e9dd-41b1-a363-7eca62541802",
   "metadata": {},
   "outputs": [
    {
     "name": "stdout",
     "output_type": "stream",
     "text": [
      "tf.Tensor(\n",
      "[[1 2]\n",
      " [3 4]], shape=(2, 2), dtype=int64)\n"
     ]
    }
   ],
   "source": [
    "np_arr = np.array([[1, 2], [3, 4]])\n",
    "tensor_from_np = tf.convert_to_tensor(np_arr)\n",
    "print(tensor_from_np)"
   ]
  },
  {
   "cell_type": "code",
   "execution_count": 93,
   "id": "511e4ff2-0e76-4eb1-acc6-38b63edc1c47",
   "metadata": {},
   "outputs": [
    {
     "name": "stdout",
     "output_type": "stream",
     "text": [
      "Reshaped tensor:\n",
      " tf.Tensor(\n",
      "[[1 2]\n",
      " [3 4]\n",
      " [5 6]\n",
      " [7 8]], shape=(4, 2), dtype=int32)\n",
      "Sliced tensor:\n",
      " tf.Tensor(\n",
      "[[2 3]\n",
      " [6 7]], shape=(2, 2), dtype=int32)\n"
     ]
    }
   ],
   "source": [
    "tensor_to_reshape = tf.constant([[1, 2, 3, 4], [5, 6, 7, 8]])\n",
    "reshaped_tensor = tf.reshape(tensor_to_reshape, shape=(4, 2))\n",
    "print(\"Reshaped tensor:\\n\", reshaped_tensor)\n",
    "sliced_tensor = tensor_to_reshape[:, 1:3]\n",
    "print(\"Sliced tensor:\\n\", sliced_tensor)"
   ]
  },
  {
   "cell_type": "code",
   "execution_count": 95,
   "id": "0338966a-5f9c-4bf5-a98c-949e3bab63d9",
   "metadata": {},
   "outputs": [
    {
     "name": "stdout",
     "output_type": "stream",
     "text": [
      "Concatenated tensor:\n",
      " tf.Tensor(\n",
      "[[1 2]\n",
      " [3 4]\n",
      " [5 6]], shape=(3, 2), dtype=int32)\n"
     ]
    }
   ],
   "source": [
    "tensor_a = tf.constant([[1, 2], [3, 4]])\n",
    "tensor_b = tf.constant([[5, 6]])\n",
    "\n",
    "concatenated_tensor = tf.concat([tensor_a, tensor_b], axis=0)\n",
    "print(\"Concatenated tensor:\\n\", concatenated_tensor)"
   ]
  },
  {
   "cell_type": "code",
   "execution_count": 97,
   "id": "521b2944-3d33-4bde-aef1-415a85f0178b",
   "metadata": {},
   "outputs": [
    {
     "name": "stdout",
     "output_type": "stream",
     "text": [
      "Square root tensor:\n",
      " tf.Tensor(\n",
      "[[1.        1.4142135]\n",
      " [1.7320508 2.       ]], shape=(2, 2), dtype=float32)\n",
      "Exponential tensor:\n",
      " tf.Tensor(\n",
      "[[ 2.7182817  7.389056 ]\n",
      " [20.085537  54.59815  ]], shape=(2, 2), dtype=float32)\n",
      "Logarithm tensor:\n",
      " tf.Tensor(\n",
      "[[0.        0.6931472]\n",
      " [1.0986123 1.3862944]], shape=(2, 2), dtype=float32)\n"
     ]
    }
   ],
   "source": [
    "import tensorflow as tf\n",
    "\n",
    "tensor_from_list = tf.constant([[1, 2], [3, 4]], dtype=tf.float32)\n",
    "\n",
    "sqrt_tensor = tf.sqrt(tensor_from_list)\n",
    "print(\"Square root tensor:\\n\", sqrt_tensor)\n",
    "\n",
    "exp_tensor = tf.exp(tensor_from_list)\n",
    "print(\"Exponential tensor:\\n\", exp_tensor)\n",
    "\n",
    "log_tensor = tf.math.log(tensor_from_list)\n",
    "print(\"Logarithm tensor:\\n\", log_tensor)\n"
   ]
  },
  {
   "cell_type": "code",
   "execution_count": 98,
   "id": "4f3b254e-1474-4f89-9fd4-b16e684f53bb",
   "metadata": {},
   "outputs": [],
   "source": [
    "# 2. Keras"
   ]
  },
  {
   "cell_type": "code",
   "execution_count": 99,
   "id": "081878ad-5912-4923-9357-53087a335a1b",
   "metadata": {},
   "outputs": [],
   "source": [
    "from keras.models import Sequential\n",
    "from keras.layers import Dense\n",
    "import numpy as np"
   ]
  },
  {
   "cell_type": "code",
   "execution_count": 100,
   "id": "8a5a6073-a005-4491-9b67-a9139e74654b",
   "metadata": {},
   "outputs": [],
   "source": [
    "model = Sequential()\n",
    "model.add(Dense(64, activation='relu', input_shape=(32,)))\n",
    "model.add(Dense(10, activation='softmax'))"
   ]
  },
  {
   "cell_type": "code",
   "execution_count": 101,
   "id": "9baad1fa-7dab-4647-b5ba-8ab71327477c",
   "metadata": {},
   "outputs": [],
   "source": [
    "model.compile(optimizer='adam', loss='sparse_categorical_crossentropy', metrics=['accuracy'])"
   ]
  },
  {
   "cell_type": "code",
   "execution_count": 102,
   "id": "59eea34e-e84b-48c4-ad93-aba0f795f575",
   "metadata": {},
   "outputs": [],
   "source": [
    "x_train = np.random.rand(1000, 32)\n",
    "y_train = np.random.randint(0, 10, size=(1000, ))"
   ]
  },
  {
   "cell_type": "code",
   "execution_count": 103,
   "id": "0b161c87-c06c-447a-8d16-204444a2a317",
   "metadata": {},
   "outputs": [
    {
     "name": "stdout",
     "output_type": "stream",
     "text": [
      "Epoch 1/10\n",
      "\u001b[1m32/32\u001b[0m \u001b[32m━━━━━━━━━━━━━━━━━━━━\u001b[0m\u001b[37m\u001b[0m \u001b[1m1s\u001b[0m 2ms/step - accuracy: 0.0935 - loss: 2.3429 \n",
      "Epoch 2/10\n",
      "\u001b[1m32/32\u001b[0m \u001b[32m━━━━━━━━━━━━━━━━━━━━\u001b[0m\u001b[37m\u001b[0m \u001b[1m0s\u001b[0m 2ms/step - accuracy: 0.1110 - loss: 2.3029\n",
      "Epoch 3/10\n",
      "\u001b[1m32/32\u001b[0m \u001b[32m━━━━━━━━━━━━━━━━━━━━\u001b[0m\u001b[37m\u001b[0m \u001b[1m0s\u001b[0m 1ms/step - accuracy: 0.1181 - loss: 2.2885\n",
      "Epoch 4/10\n",
      "\u001b[1m32/32\u001b[0m \u001b[32m━━━━━━━━━━━━━━━━━━━━\u001b[0m\u001b[37m\u001b[0m \u001b[1m0s\u001b[0m 1ms/step - accuracy: 0.1393 - loss: 2.2828\n",
      "Epoch 5/10\n",
      "\u001b[1m32/32\u001b[0m \u001b[32m━━━━━━━━━━━━━━━━━━━━\u001b[0m\u001b[37m\u001b[0m \u001b[1m0s\u001b[0m 2ms/step - accuracy: 0.1361 - loss: 2.2760\n",
      "Epoch 6/10\n",
      "\u001b[1m32/32\u001b[0m \u001b[32m━━━━━━━━━━━━━━━━━━━━\u001b[0m\u001b[37m\u001b[0m \u001b[1m0s\u001b[0m 3ms/step - accuracy: 0.1240 - loss: 2.2740\n",
      "Epoch 7/10\n",
      "\u001b[1m32/32\u001b[0m \u001b[32m━━━━━━━━━━━━━━━━━━━━\u001b[0m\u001b[37m\u001b[0m \u001b[1m0s\u001b[0m 2ms/step - accuracy: 0.1424 - loss: 2.2699\n",
      "Epoch 8/10\n",
      "\u001b[1m32/32\u001b[0m \u001b[32m━━━━━━━━━━━━━━━━━━━━\u001b[0m\u001b[37m\u001b[0m \u001b[1m0s\u001b[0m 3ms/step - accuracy: 0.1520 - loss: 2.2686\n",
      "Epoch 9/10\n",
      "\u001b[1m32/32\u001b[0m \u001b[32m━━━━━━━━━━━━━━━━━━━━\u001b[0m\u001b[37m\u001b[0m \u001b[1m0s\u001b[0m 2ms/step - accuracy: 0.1423 - loss: 2.2536\n",
      "Epoch 10/10\n",
      "\u001b[1m32/32\u001b[0m \u001b[32m━━━━━━━━━━━━━━━━━━━━\u001b[0m\u001b[37m\u001b[0m \u001b[1m0s\u001b[0m 3ms/step - accuracy: 0.1764 - loss: 2.2430\n"
     ]
    },
    {
     "data": {
      "text/plain": [
       "<keras.src.callbacks.history.History at 0x25d5b6744d0>"
      ]
     },
     "execution_count": 103,
     "metadata": {},
     "output_type": "execute_result"
    }
   ],
   "source": [
    "model.fit(x_train, y_train, epochs=10)"
   ]
  },
  {
   "cell_type": "code",
   "execution_count": 104,
   "id": "8d13bf5d-3510-430e-b98d-d65c70586637",
   "metadata": {},
   "outputs": [],
   "source": [
    "# Other operations in keras"
   ]
  },
  {
   "cell_type": "code",
   "execution_count": 105,
   "id": "72494295-bb76-4c09-a098-040b0ca88ed9",
   "metadata": {},
   "outputs": [],
   "source": [
    "import tensorflow as tf\n",
    "from tensorflow.keras import backend as k\n",
    "import numpy as np"
   ]
  },
  {
   "cell_type": "code",
   "execution_count": 106,
   "id": "3275d106-0c52-4daf-a3ec-055072dff812",
   "metadata": {},
   "outputs": [
    {
     "name": "stdout",
     "output_type": "stream",
     "text": [
      "tf.Tensor(\n",
      "[[1. 2.]\n",
      " [3. 4.]], shape=(2, 2), dtype=float32)\n"
     ]
    }
   ],
   "source": [
    "tensor_from_list = k.constant([[1, 2], [3, 4]])\n",
    "print(tensor_from_list)"
   ]
  },
  {
   "cell_type": "code",
   "execution_count": 107,
   "id": "a6fe15cf-6ecf-4f52-ace3-0d8034eba3ab",
   "metadata": {},
   "outputs": [
    {
     "name": "stdout",
     "output_type": "stream",
     "text": [
      "Random tensor:\n",
      " tf.Tensor(\n",
      "[[8.098754  1.255902  9.310787 ]\n",
      " [4.9607205 5.432905  1.0422826]], shape=(2, 3), dtype=float32)\n",
      "Zero tensor:\n",
      " <tf.Variable 'Variable:0' shape=(2, 3) dtype=float32, numpy=\n",
      "array([[0., 0., 0.],\n",
      "       [0., 0., 0.]], dtype=float32)>\n",
      "Ones tensor:\n",
      " <tf.Variable 'Variable:0' shape=(2, 3) dtype=float32, numpy=\n",
      "array([[1., 1., 1.],\n",
      "       [1., 1., 1.]], dtype=float32)>\n"
     ]
    }
   ],
   "source": [
    "random_tensor = k.random_uniform(shape=(2, 3), minval=0, maxval=10)\n",
    "print(\"Random tensor:\\n\", random_tensor)\n",
    "\n",
    "zero_tensor = k.zeros(shape=(2, 3))\n",
    "print(\"Zero tensor:\\n\", zero_tensor)\n",
    "\n",
    "ones_tensor = k.ones(shape=(2, 3))\n",
    "print(\"Ones tensor:\\n\", ones_tensor)"
   ]
  },
  {
   "cell_type": "code",
   "execution_count": 108,
   "id": "b73090c8-81e5-4ae9-b296-7d81c9c9f489",
   "metadata": {},
   "outputs": [
    {
     "name": "stdout",
     "output_type": "stream",
     "text": [
      "Addition:\n",
      " [[ 6.  8.]\n",
      " [10. 12.]]\n",
      "Subtraction:\n",
      " [[-4. -4.]\n",
      " [-4. -4.]]\n",
      "Multiplication:\n",
      " [[ 5. 12.]\n",
      " [21. 32.]]\n",
      "Division:\n",
      " [[0.2        0.33333334]\n",
      " [0.42857143 0.5       ]]\n"
     ]
    }
   ],
   "source": [
    "a = k.constant([[1, 2], [3, 4]])\n",
    "b = k.constant([[5, 6], [7, 8]])\n",
    "print(\"Addition:\\n\", k.eval(a + b))\n",
    "print(\"Subtraction:\\n\", k.eval(a - b))\n",
    "print(\"Multiplication:\\n\", k.eval(a * b))\n",
    "print(\"Division:\\n\", k.eval(a / b))"
   ]
  },
  {
   "cell_type": "code",
   "execution_count": 109,
   "id": "8d31b636-7e19-4190-a97d-04d59be0d220",
   "metadata": {},
   "outputs": [
    {
     "name": "stdout",
     "output_type": "stream",
     "text": [
      "Reshaped tensor:\n",
      " [[1. 2.]\n",
      " [3. 4.]\n",
      " [5. 6.]\n",
      " [7. 8.]]\n",
      "Sliced tensor:\n",
      " [[2. 3.]\n",
      " [6. 7.]]\n"
     ]
    }
   ],
   "source": [
    "tensor_to_reshape = k.constant([[1, 2, 3, 4], [5, 6, 7, 8]])\n",
    "reshaped_tensor = k.reshape(tensor_to_reshape, shape=(4, 2))\n",
    "print(\"Reshaped tensor:\\n\", k.eval(reshaped_tensor))\n",
    "sliced_tensor = tensor_to_reshape[:, 1:3]\n",
    "print(\"Sliced tensor:\\n\", k.eval(sliced_tensor))"
   ]
  },
  {
   "cell_type": "code",
   "execution_count": 110,
   "id": "0de44b87-344a-452f-8321-d5febe988741",
   "metadata": {},
   "outputs": [
    {
     "name": "stdout",
     "output_type": "stream",
     "text": [
      "Concatenated tensor:\n",
      " [[1. 2.]\n",
      " [3. 4.]\n",
      " [5. 6.]]\n"
     ]
    }
   ],
   "source": [
    "tensor_a = k.constant([[1, 2], [3, 4]])\n",
    "tensor_b = k.constant([[5, 6]])\n",
    "concatenated_tensor = k.concatenate([tensor_a, tensor_b], axis=0)\n",
    "print(\"Concatenated tensor:\\n\", k.eval(concatenated_tensor))"
   ]
  },
  {
   "cell_type": "code",
   "execution_count": 111,
   "id": "612b4238-dd1e-4b99-9ddb-abe6e0e338b5",
   "metadata": {},
   "outputs": [
    {
     "name": "stdout",
     "output_type": "stream",
     "text": [
      "Square root tensor:\n",
      " [[1.        1.4142135]\n",
      " [1.7320508 2.       ]]\n",
      "Exponential tensor:\n",
      " [[ 2.7182817  7.389056 ]\n",
      " [20.085537  54.59815  ]]\n",
      "Logarithm tensor:\n",
      " [[0.        0.6931472]\n",
      " [1.0986123 1.3862944]]\n"
     ]
    }
   ],
   "source": [
    "sqrt_tensor = k.sqrt(k.cast(tensor_from_list, dtype='float32'))\n",
    "print(\"Square root tensor:\\n\", k.eval(sqrt_tensor))\n",
    "\n",
    "exp_tensor = k.exp(k.cast(tensor_from_list, dtype='float32'))\n",
    "print(\"Exponential tensor:\\n\", k.eval(exp_tensor))\n",
    "\n",
    "log_tensor = k.log(k.cast(tensor_from_list, dtype='float32'))\n",
    "print(\"Logarithm tensor:\\n\", k.eval(log_tensor))"
   ]
  },
  {
   "cell_type": "code",
   "execution_count": 112,
   "id": "260202ff-ad01-4622-9afd-80607a5ae7e6",
   "metadata": {},
   "outputs": [
    {
     "name": "stdout",
     "output_type": "stream",
     "text": [
      "Converted to NumPy array:\n",
      " [[1. 2.]\n",
      " [3. 4.]]\n",
      "Converted back to Tensor:\n",
      " [[5. 6.]\n",
      " [7. 8.]]\n"
     ]
    }
   ],
   "source": [
    "tensor_np = k.constant([[1.0, 2.0], [3.0, 4.0]])\n",
    "np_array = k.eval(tensor_np)\n",
    "print(\"Converted to NumPy array:\\n\", np_array)\n",
    "\n",
    "np_array = np.array([[5.0, 6.0], [7.0, 8.0]])\n",
    "tensor_from_np = k.constant(np_array)\n",
    "print(\"Converted back to Tensor:\\n\", k.eval(tensor_from_np))"
   ]
  },
  {
   "cell_type": "code",
   "execution_count": 113,
   "id": "f433713a-9c97-41b2-8798-9980a9f88794",
   "metadata": {},
   "outputs": [],
   "source": [
    "# 3. Theano"
   ]
  },
  {
   "cell_type": "code",
   "execution_count": null,
   "id": "c5b4a27e-1221-446d-955a-b10c3525d603",
   "metadata": {},
   "outputs": [],
   "source": [
    "import theano\n",
    "import theano.tensor as T\n",
    "import numpy as np"
   ]
  },
  {
   "cell_type": "code",
   "execution_count": null,
   "id": "cd9f5784-f1f4-45fd-b582-8cef2a54a864",
   "metadata": {},
   "outputs": [],
   "source": [
    "x = T.dmatrix('x')\n",
    "w = T.dmatrix('w')\n",
    "b = T.dvector('b')"
   ]
  },
  {
   "cell_type": "code",
   "execution_count": null,
   "id": "9eddd18a-34e6-40d4-943d-53fb428a3171",
   "metadata": {},
   "outputs": [],
   "source": [
    "y = T.dot(x, w) + b"
   ]
  },
  {
   "cell_type": "code",
   "execution_count": null,
   "id": "99f25b78-bbc4-474f-9049-8f00aac0e793",
   "metadata": {},
   "outputs": [],
   "source": [
    "model = theano.function(inputs=[x, w, b], outputs=y)"
   ]
  },
  {
   "cell_type": "code",
   "execution_count": null,
   "id": "cd6f4e48-bd55-4b98-b819-ac7587cedb1a",
   "metadata": {},
   "outputs": [],
   "source": [
    "x_data = np.random.rand(100, 32)\n",
    "w_data = np.random.rand(32, 10)\n",
    "b_data = np.random.rand(10)"
   ]
  },
  {
   "cell_type": "code",
   "execution_count": null,
   "id": "847d4ba2-0261-4416-85ac-955231061b6e",
   "metadata": {},
   "outputs": [],
   "source": [
    "output = model(x_data, w_data, b_data)\n",
    "print(output)"
   ]
  },
  {
   "cell_type": "code",
   "execution_count": null,
   "id": "40b90eb2-eb73-4a9d-a845-8ae99f14f891",
   "metadata": {},
   "outputs": [],
   "source": [
    "# other operations in theano"
   ]
  },
  {
   "cell_type": "code",
   "execution_count": null,
   "id": "6d32af6c-8dbc-49d6-9859-d2b91214979c",
   "metadata": {},
   "outputs": [],
   "source": [
    "import theano\n",
    "import theano.tensor as T\n",
    "import numpy as np"
   ]
  },
  {
   "cell_type": "code",
   "execution_count": null,
   "id": "0264d382-0694-4f1b-b4bc-5f06721dac73",
   "metadata": {},
   "outputs": [],
   "source": [
    "a = T.matrix('a')\n",
    "b = T.matrix('b')"
   ]
  },
  {
   "cell_type": "code",
   "execution_count": null,
   "id": "82a45a8d-7123-401b-b14a-5e4eb3313c4b",
   "metadata": {},
   "outputs": [],
   "source": [
    "a_val = np.array([[1, 2], [3, 4]], dtype=theano.config.floatX)\n",
    "b_val = np.array([[5, 6], [7, 8]], dtype=theano.config.floatX)\n",
    "\n",
    "add_result = a + b\n",
    "sub_result = a - b\n",
    "mul_result = a * b\n",
    "div_result = a / b\n",
    "\n",
    "f_add = theano.function([a, b], add_result)\n",
    "f_sub = theano.function([a, b], sub_result)\n",
    "f_mul = theano.function([a, b], mul_result)\n",
    "f_div = theano.function([a, b], div_result)\n",
    "\n",
    "print(\"Addition:\\n\", f_add(a_val, b_val))\n",
    "print(\"Subtraction:\\n\", f_sub(a_val, b_val))\n",
    "print(\"Multiplication:\\n\", f_mul(a_val, b_val))\n",
    "print(\"Division:\\n\", f_div(a_val, b_val))"
   ]
  },
  {
   "cell_type": "code",
   "execution_count": null,
   "id": "17664158-9a00-4106-8526-999b9f23ec65",
   "metadata": {},
   "outputs": [],
   "source": [
    "reshaped_tensor = a.reshape((4, 1))\n",
    "f_reshape = theano.function([a], reshaped_tensor)\n",
    "print(\"Reshaped tensor:\\n\", f_reshape(a_val))"
   ]
  },
  {
   "cell_type": "code",
   "execution_count": null,
   "id": "76400784-4823-4e4f-8085-e9e9c8241ca8",
   "metadata": {},
   "outputs": [],
   "source": [
    "concat_result = T.concatenate([a, b], axis=0)\n",
    "f_concat = theano.function([a, b], concat_result)\n",
    "print(\"Concatenated tensor along axis 0:\\n\", f_concat(a_val, b_val))"
   ]
  },
  {
   "cell_type": "code",
   "execution_count": null,
   "id": "d2e37b84-fac7-48aa-8cc1-cf848d96c545",
   "metadata": {},
   "outputs": [],
   "source": [
    "sqrt_tensor = T.sqrt(a)\n",
    "exp_tensor = T.exp(a)\n",
    "log_tensor = T.log(a)\n",
    "\n",
    "# Compile functions\n",
    "f_sqrt = theano.function([a], sqrt_tensor)\n",
    "f_exp = theano.function([a], exp_tensor)\n",
    "f_log = theano.function([a], log_tensor)\n",
    "\n",
    "print(\"Square root tensor:\\n\", f_sqrt(a_val))\n",
    "print(\"Exponential tensor:\\n\", f_exp(a_val))\n",
    "print(\"Logarithm tensor:\\n\", f_log(a_val))"
   ]
  },
  {
   "cell_type": "code",
   "execution_count": null,
   "id": "92856b21-12fc-40b8-b75e-d92b55c6612a",
   "metadata": {},
   "outputs": [],
   "source": [
    "np_array = np.array([[5.0, 6.0], [7.0, 8.0]], dtype=theano.config.floatX)\n",
    "tensor_from_np = T.as_tensor_variable(np_array)\n",
    "print(\"Tensor from NumPy array:\\n\", tensor_from_np.eval())"
   ]
  },
  {
   "cell_type": "code",
   "execution_count": null,
   "id": "fd68d3b0-320f-419a-bd06-d01f8a02d409",
   "metadata": {},
   "outputs": [],
   "source": []
  },
  {
   "cell_type": "code",
   "execution_count": 115,
   "id": "87334a88-17bf-49e0-8e32-510f5f9057bc",
   "metadata": {},
   "outputs": [],
   "source": [
    "# 4. PyTorch"
   ]
  },
  {
   "cell_type": "code",
   "execution_count": 116,
   "id": "6eb23d23-0718-4a7a-bef2-73acc4b5826f",
   "metadata": {},
   "outputs": [],
   "source": [
    "import torch\n",
    "import torch.nn as nn\n",
    "import torch.optim as optim"
   ]
  },
  {
   "cell_type": "code",
   "execution_count": 117,
   "id": "46f5b3f4-99fe-4156-9e4d-718ece2c9cfe",
   "metadata": {},
   "outputs": [],
   "source": [
    "class SimpleNN(nn.Module):\n",
    "    def __init__(self):\n",
    "        super(SimpleNN, self).__init__()\n",
    "        self.fc1 = nn.Linear(32, 64)\n",
    "        self.fc2 = nn.Linear(64, 10)\n",
    "\n",
    "    def forward(self, x):\n",
    "        x = torch.relu(self.fc1(x))\n",
    "        return self.fc2(x)"
   ]
  },
  {
   "cell_type": "code",
   "execution_count": 118,
   "id": "365457b1-eb07-4527-bd5b-45bf0f169b37",
   "metadata": {},
   "outputs": [],
   "source": [
    "model = SimpleNN()"
   ]
  },
  {
   "cell_type": "code",
   "execution_count": 119,
   "id": "42f568b8-566c-4645-8ecc-519fc3234134",
   "metadata": {},
   "outputs": [],
   "source": [
    "criterion = nn.CrossEntropyLoss()\n",
    "optimizer = optim.Adam(model.parameters())"
   ]
  },
  {
   "cell_type": "code",
   "execution_count": 120,
   "id": "63324391-6581-4cfc-b5cd-cb85cc0e93f0",
   "metadata": {},
   "outputs": [],
   "source": [
    "x_train = torch.rand(1000, 32)\n",
    "y_train = torch.randint(0, 10, (1000,))"
   ]
  },
  {
   "cell_type": "code",
   "execution_count": 121,
   "id": "5200242e-639e-4fb4-b45d-0d10f61828f2",
   "metadata": {},
   "outputs": [
    {
     "name": "stdout",
     "output_type": "stream",
     "text": [
      "Epoch [1/10], Loss: 2.3209\n",
      "Epoch [2/10], Loss: 2.3172\n",
      "Epoch [3/10], Loss: 2.3139\n",
      "Epoch [4/10], Loss: 2.3109\n",
      "Epoch [5/10], Loss: 2.3081\n",
      "Epoch [6/10], Loss: 2.3055\n",
      "Epoch [7/10], Loss: 2.3031\n",
      "Epoch [8/10], Loss: 2.3010\n",
      "Epoch [9/10], Loss: 2.2989\n",
      "Epoch [10/10], Loss: 2.2970\n"
     ]
    }
   ],
   "source": [
    "for epoch in range(10):\n",
    "    model.train()\n",
    "    optimizer.zero_grad()\n",
    "    outputs = model(x_train)\n",
    "    loss = criterion(outputs, y_train)\n",
    "    loss.backward()\n",
    "    optimizer.step()\n",
    "    print(f'Epoch [{epoch+1}/10], Loss: {loss.item():.4f}')"
   ]
  },
  {
   "cell_type": "code",
   "execution_count": 122,
   "id": "fb0eb80b-6932-420a-b319-75dead3e8aa9",
   "metadata": {},
   "outputs": [],
   "source": [
    "# other operations in pytorch"
   ]
  },
  {
   "cell_type": "code",
   "execution_count": 123,
   "id": "7b345c3e-46bf-4a01-9790-3e1dcb64a6ab",
   "metadata": {},
   "outputs": [],
   "source": [
    "import torch\n",
    "import numpy as np"
   ]
  },
  {
   "cell_type": "code",
   "execution_count": 124,
   "id": "9afe1a9b-ae36-4cd6-b854-843399b7f2e2",
   "metadata": {},
   "outputs": [
    {
     "name": "stdout",
     "output_type": "stream",
     "text": [
      "Tensor from list:\n",
      " tensor([[1, 2],\n",
      "        [3, 4]])\n",
      "Random tensor:\n",
      " tensor([[0.5564, 0.4543, 0.5608],\n",
      "        [0.3731, 0.8195, 0.5030]])\n",
      "Zero tensor:\n",
      " tensor([[0., 0., 0.],\n",
      "        [0., 0., 0.]])\n",
      "Ones tensor:\n",
      " tensor([[1., 1., 1.],\n",
      "        [1., 1., 1.]])\n"
     ]
    }
   ],
   "source": [
    "data = [[1, 2], [3, 4]]\n",
    "tensor_from_list = torch.tensor(data)\n",
    "print(\"Tensor from list:\\n\", tensor_from_list)\n",
    "\n",
    "random_tensor = torch.rand((2, 3))\n",
    "print(\"Random tensor:\\n\", random_tensor)\n",
    "\n",
    "zero_tensor = torch.zeros((2, 3))\n",
    "print(\"Zero tensor:\\n\", zero_tensor)\n",
    "\n",
    "ones_tensor = torch.ones((2, 3))\n",
    "print(\"Ones tensor:\\n\", ones_tensor)"
   ]
  },
  {
   "cell_type": "code",
   "execution_count": 125,
   "id": "d5b911d3-9f87-421c-ad1b-3cd4b9618593",
   "metadata": {},
   "outputs": [
    {
     "name": "stdout",
     "output_type": "stream",
     "text": [
      "Addition:\n",
      " tensor([[ 6.,  8.],\n",
      "        [10., 12.]])\n",
      "Subtraction:\n",
      " tensor([[-4., -4.],\n",
      "        [-4., -4.]])\n",
      "Multiplication:\n",
      " tensor([[ 5., 12.],\n",
      "        [21., 32.]])\n",
      "Division:\n",
      " tensor([[0.2000, 0.3333],\n",
      "        [0.4286, 0.5000]])\n"
     ]
    }
   ],
   "source": [
    "a = torch.tensor([[1, 2], [3, 4]], dtype=torch.float32)\n",
    "b = torch.tensor([[5, 6], [7, 8]], dtype=torch.float32)\n",
    "print(\"Addition:\\n\", a + b)\n",
    "print(\"Subtraction:\\n\", a - b)\n",
    "print(\"Multiplication:\\n\", a * b)\n",
    "print(\"Division:\\n\", a / b)"
   ]
  },
  {
   "cell_type": "code",
   "execution_count": 126,
   "id": "9790a7fc-3ef9-475a-90e0-fc3bf401adcd",
   "metadata": {},
   "outputs": [
    {
     "name": "stdout",
     "output_type": "stream",
     "text": [
      "Reshaped tensor:\n",
      " tensor([[1, 2],\n",
      "        [3, 4],\n",
      "        [5, 6],\n",
      "        [7, 8]])\n",
      "Sliced tensor:\n",
      " tensor([[2, 3],\n",
      "        [6, 7]])\n"
     ]
    }
   ],
   "source": [
    "tensor_to_reshape = torch.tensor([[1, 2, 3, 4], [5, 6, 7, 8]])\n",
    "reshaped_tensor = tensor_to_reshape.view(4, 2)\n",
    "print(\"Reshaped tensor:\\n\", reshaped_tensor)\n",
    "sliced_tensor = tensor_to_reshape[:, 1:3]\n",
    "print(\"Sliced tensor:\\n\", sliced_tensor)"
   ]
  },
  {
   "cell_type": "code",
   "execution_count": 127,
   "id": "f00fde8c-43d8-4de9-9384-498b0d82710a",
   "metadata": {},
   "outputs": [
    {
     "name": "stdout",
     "output_type": "stream",
     "text": [
      "Concatenated tensor along rows:\n",
      " tensor([[1, 2],\n",
      "        [3, 4],\n",
      "        [5, 6]])\n"
     ]
    }
   ],
   "source": [
    "tensor_a = torch.tensor([[1, 2], [3, 4]])\n",
    "tensor_b = torch.tensor([[5, 6]])\n",
    "concatenated_tensor = torch.cat([tensor_a, tensor_b], dim=0)\n",
    "print(\"Concatenated tensor along rows:\\n\", concatenated_tensor)"
   ]
  },
  {
   "cell_type": "code",
   "execution_count": 128,
   "id": "62eee260-78a6-4e0d-8485-e5489b870129",
   "metadata": {},
   "outputs": [
    {
     "name": "stdout",
     "output_type": "stream",
     "text": [
      "Square root tensor:\n",
      " tensor([[1.0000, 1.4142],\n",
      "        [1.7321, 2.0000]])\n",
      "Exponential tensor:\n",
      " tensor([[ 2.7183,  7.3891],\n",
      "        [20.0855, 54.5981]])\n",
      "Logarithm tensor:\n",
      " tensor([[0.0000, 0.6931],\n",
      "        [1.0986, 1.3863]])\n"
     ]
    }
   ],
   "source": [
    "sqrt_tensor = torch.sqrt(a)\n",
    "print(\"Square root tensor:\\n\", sqrt_tensor)\n",
    "\n",
    "exp_tensor = torch.exp(a)\n",
    "print(\"Exponential tensor:\\n\", exp_tensor)\n",
    "\n",
    "log_tensor = torch.log(a)\n",
    "print(\"Logarithm tensor:\\n\", log_tensor)"
   ]
  },
  {
   "cell_type": "code",
   "execution_count": 129,
   "id": "b663cfc4-4bed-47dc-8a2d-1af34acc65c0",
   "metadata": {},
   "outputs": [
    {
     "name": "stdout",
     "output_type": "stream",
     "text": [
      "Converted to NumPy array:\n",
      " [[1. 2.]\n",
      " [3. 4.]]\n",
      "Converted back to Tensor:\n",
      " tensor([[5., 6.],\n",
      "        [7., 8.]], dtype=torch.float64)\n"
     ]
    }
   ],
   "source": [
    "tensor_np = torch.tensor([[1.0, 2.0], [3.0, 4.0]])\n",
    "np_array = tensor_np.numpy()\n",
    "print(\"Converted to NumPy array:\\n\", np_array)\n",
    "\n",
    "np_array = np.array([[5.0, 6.0], [7.0, 8.0]])\n",
    "tensor_from_np = torch.from_numpy(np_array)\n",
    "print(\"Converted back to Tensor:\\n\", tensor_from_np)"
   ]
  }
 ],
 "metadata": {
  "kernelspec": {
   "display_name": "Python 3 (ipykernel)",
   "language": "python",
   "name": "python3"
  },
  "language_info": {
   "codemirror_mode": {
    "name": "ipython",
    "version": 3
   },
   "file_extension": ".py",
   "mimetype": "text/x-python",
   "name": "python",
   "nbconvert_exporter": "python",
   "pygments_lexer": "ipython3",
   "version": "3.12.0"
  }
 },
 "nbformat": 4,
 "nbformat_minor": 5
}
